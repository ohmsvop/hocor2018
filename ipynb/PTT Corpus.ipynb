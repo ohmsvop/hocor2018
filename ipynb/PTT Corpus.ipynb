{
 "cells": [
  {
   "cell_type": "markdown",
   "metadata": {
    "slideshow": {
     "slide_type": "slide"
    }
   },
   "source": [
    "# PTT Web Crawler\n",
    "https://github.com/jwlin/ptt-web-crawler.git"
   ]
  },
  {
   "cell_type": "code",
   "execution_count": 1,
   "metadata": {
    "slideshow": {
     "slide_type": "subslide"
    }
   },
   "outputs": [],
   "source": [
    "import pandas as pd\n",
    "import json"
   ]
  },
  {
   "cell_type": "code",
   "execution_count": 2,
   "metadata": {
    "slideshow": {
     "slide_type": "-"
    }
   },
   "outputs": [],
   "source": [
    "from pathlib import Path\n",
    "data_folder = Path(\"../data/\")"
   ]
  },
  {
   "cell_type": "code",
   "execution_count": 3,
   "metadata": {
    "slideshow": {
     "slide_type": "slide"
    }
   },
   "outputs": [],
   "source": [
    "with open(data_folder / 'Gossiping.json') as file:\n",
    "    ptt = file.read()\n",
    "ptt = json.loads(ptt)"
   ]
  },
  {
   "cell_type": "code",
   "execution_count": 4,
   "metadata": {
    "slideshow": {
     "slide_type": "slide"
    }
   },
   "outputs": [],
   "source": [
    "ptt = pd.DataFrame.from_dict(ptt['articles'])"
   ]
  },
  {
   "cell_type": "code",
   "execution_count": 5,
   "metadata": {},
   "outputs": [
    {
     "name": "stdout",
     "output_type": "stream",
     "text": [
      "<class 'pandas.core.frame.DataFrame'>\n",
      "RangeIndex: 970 entries, 0 to 969\n",
      "Data columns (total 11 columns):\n",
      "article_id       969 non-null object\n",
      "article_title    969 non-null object\n",
      "author           969 non-null object\n",
      "board            969 non-null object\n",
      "content          969 non-null object\n",
      "date             969 non-null object\n",
      "error            1 non-null object\n",
      "ip               969 non-null object\n",
      "message_count    969 non-null object\n",
      "messages         969 non-null object\n",
      "url              969 non-null object\n",
      "dtypes: object(11)\n",
      "memory usage: 83.4+ KB\n"
     ]
    }
   ],
   "source": [
    "ptt.info()"
   ]
  },
  {
   "cell_type": "code",
   "execution_count": 6,
   "metadata": {
    "scrolled": true
   },
   "outputs": [
    {
     "data": {
      "text/html": [
       "<div>\n",
       "<style scoped>\n",
       "    .dataframe tbody tr th:only-of-type {\n",
       "        vertical-align: middle;\n",
       "    }\n",
       "\n",
       "    .dataframe tbody tr th {\n",
       "        vertical-align: top;\n",
       "    }\n",
       "\n",
       "    .dataframe thead th {\n",
       "        text-align: right;\n",
       "    }\n",
       "</style>\n",
       "<table border=\"1\" class=\"dataframe\">\n",
       "  <thead>\n",
       "    <tr style=\"text-align: right;\">\n",
       "      <th></th>\n",
       "      <th>article_id</th>\n",
       "      <th>article_title</th>\n",
       "      <th>author</th>\n",
       "      <th>board</th>\n",
       "      <th>content</th>\n",
       "      <th>date</th>\n",
       "      <th>error</th>\n",
       "      <th>ip</th>\n",
       "      <th>message_count</th>\n",
       "      <th>messages</th>\n",
       "      <th>url</th>\n",
       "    </tr>\n",
       "  </thead>\n",
       "  <tbody>\n",
       "    <tr>\n",
       "      <th>0</th>\n",
       "      <td>M.1540813228.A.C3A</td>\n",
       "      <td>[新聞] 防堵中美洲移民 美國平民號召組義勇軍守</td>\n",
       "      <td>charloette (三宅樹理)</td>\n",
       "      <td>Gossiping</td>\n",
       "      <td>https://goo.gl/mGzYgC 防堵中美洲移民 美國平民號召組義勇軍守邊境 [新...</td>\n",
       "      <td>Mon Oct 29 19:40:24 2018</td>\n",
       "      <td>NaN</td>\n",
       "      <td>36.234.177.65</td>\n",
       "      <td>{'all': 30, 'boo': 0, 'count': 15, 'neutral': ...</td>\n",
       "      <td>[{'push_content': '反觀台灣超大方，引進一堆東南亞人y', 'push_i...</td>\n",
       "      <td>https://www.ptt.cc/bbs/Gossiping/M.1540813228....</td>\n",
       "    </tr>\n",
       "    <tr>\n",
       "      <th>1</th>\n",
       "      <td>M.1540813282.A.740</td>\n",
       "      <td>[問卦] 為何假日要待在學校?校方該加強危機意識</td>\n",
       "      <td>Metallicat (金屬製貓)</td>\n",
       "      <td>Gossiping</td>\n",
       "      <td>看了今天新聞，成大學生的悲劇大家都很難過 但是校方為何完全沒有危機意識?隨便讓一個有前科的人...</td>\n",
       "      <td>Mon Oct 29 19:41:18 2018</td>\n",
       "      <td>NaN</td>\n",
       "      <td>126.60.251.113</td>\n",
       "      <td>{'all': 14, 'boo': 10, 'count': -9, 'neutral':...</td>\n",
       "      <td>[{'push_content': '中國或成最大贏家', 'push_ipdatetime...</td>\n",
       "      <td>https://www.ptt.cc/bbs/Gossiping/M.1540813282....</td>\n",
       "    </tr>\n",
       "    <tr>\n",
       "      <th>2</th>\n",
       "      <td>M.1540813302.A.EF0</td>\n",
       "      <td>Re: [新聞] 姚文智要全黨一起譴責柯文哲　民進黨不回</td>\n",
       "      <td>HuntBear (獵熊)</td>\n",
       "      <td>Gossiping</td>\n",
       "      <td>: 姚文智要全黨一起譴責柯文哲 民進黨不回應 : https://tw.news.apple...</td>\n",
       "      <td>Mon Oct 29 19:41:39 2018</td>\n",
       "      <td>NaN</td>\n",
       "      <td>180.176.233.190</td>\n",
       "      <td>{'all': 3, 'boo': 1, 'count': -1, 'neutral': 2...</td>\n",
       "      <td>[{'push_content': '丁跟姚都已經變小丑等極了', 'push_ipdate...</td>\n",
       "      <td>https://www.ptt.cc/bbs/Gossiping/M.1540813302....</td>\n",
       "    </tr>\n",
       "    <tr>\n",
       "      <th>3</th>\n",
       "      <td>M.1540813337.A.3E0</td>\n",
       "      <td>[ＦＢ] 北市府X臺酒--建國啤酒廠保存協議簽署</td>\n",
       "      <td>tony900735 (好貴！  好貴！)</td>\n",
       "      <td>Gossiping</td>\n",
       "      <td>來源：台北市副市長林欽榮臉書 https://goo.gl/kRkaLa https://i...</td>\n",
       "      <td>Mon Oct 29 19:42:14 2018</td>\n",
       "      <td>NaN</td>\n",
       "      <td>223.137.48.229</td>\n",
       "      <td>{'all': 20, 'boo': 0, 'count': 13, 'neutral': ...</td>\n",
       "      <td>[{'push_content': '抓到了  鼓勵飲酒', 'push_ipdatetim...</td>\n",
       "      <td>https://www.ptt.cc/bbs/Gossiping/M.1540813337....</td>\n",
       "    </tr>\n",
       "    <tr>\n",
       "      <th>4</th>\n",
       "      <td>M.1540813401.A.AD1</td>\n",
       "      <td>Re: [新聞] 成大清潔工前科「勒昏美女襲胸判8月」</td>\n",
       "      <td>timetolove (艾爾不怕西諾)</td>\n",
       "      <td>Gossiping</td>\n",
       "      <td>安啦，今天被害的不是法界人士 更不是大官兒女 也沒有背景 偉大的鬼島法官一定會認為可以教化輕...</td>\n",
       "      <td>Mon Oct 29 19:43:18 2018</td>\n",
       "      <td>NaN</td>\n",
       "      <td>110.26.140.2</td>\n",
       "      <td>{'all': 4, 'boo': 0, 'count': 3, 'neutral': 1,...</td>\n",
       "      <td>[{'push_content': 'https://youtu.be/BtEO8q0Y1y...</td>\n",
       "      <td>https://www.ptt.cc/bbs/Gossiping/M.1540813401....</td>\n",
       "    </tr>\n",
       "  </tbody>\n",
       "</table>\n",
       "</div>"
      ],
      "text/plain": [
       "           article_id                 article_title                 author  \\\n",
       "0  M.1540813228.A.C3A      [新聞] 防堵中美洲移民 美國平民號召組義勇軍守      charloette (三宅樹理)   \n",
       "1  M.1540813282.A.740      [問卦] 為何假日要待在學校?校方該加強危機意識      Metallicat (金屬製貓)   \n",
       "2  M.1540813302.A.EF0  Re: [新聞] 姚文智要全黨一起譴責柯文哲　民進黨不回          HuntBear (獵熊)   \n",
       "3  M.1540813337.A.3E0      [ＦＢ] 北市府X臺酒--建國啤酒廠保存協議簽署  tony900735 (好貴！  好貴！)   \n",
       "4  M.1540813401.A.AD1   Re: [新聞] 成大清潔工前科「勒昏美女襲胸判8月」    timetolove (艾爾不怕西諾)   \n",
       "\n",
       "       board                                            content  \\\n",
       "0  Gossiping  https://goo.gl/mGzYgC 防堵中美洲移民 美國平民號召組義勇軍守邊境 [新...   \n",
       "1  Gossiping  看了今天新聞，成大學生的悲劇大家都很難過 但是校方為何完全沒有危機意識?隨便讓一個有前科的人...   \n",
       "2  Gossiping  : 姚文智要全黨一起譴責柯文哲 民進黨不回應 : https://tw.news.apple...   \n",
       "3  Gossiping  來源：台北市副市長林欽榮臉書 https://goo.gl/kRkaLa https://i...   \n",
       "4  Gossiping  安啦，今天被害的不是法界人士 更不是大官兒女 也沒有背景 偉大的鬼島法官一定會認為可以教化輕...   \n",
       "\n",
       "                       date error               ip  \\\n",
       "0  Mon Oct 29 19:40:24 2018   NaN    36.234.177.65   \n",
       "1  Mon Oct 29 19:41:18 2018   NaN   126.60.251.113   \n",
       "2  Mon Oct 29 19:41:39 2018   NaN  180.176.233.190   \n",
       "3  Mon Oct 29 19:42:14 2018   NaN   223.137.48.229   \n",
       "4  Mon Oct 29 19:43:18 2018   NaN     110.26.140.2   \n",
       "\n",
       "                                       message_count  \\\n",
       "0  {'all': 30, 'boo': 0, 'count': 15, 'neutral': ...   \n",
       "1  {'all': 14, 'boo': 10, 'count': -9, 'neutral':...   \n",
       "2  {'all': 3, 'boo': 1, 'count': -1, 'neutral': 2...   \n",
       "3  {'all': 20, 'boo': 0, 'count': 13, 'neutral': ...   \n",
       "4  {'all': 4, 'boo': 0, 'count': 3, 'neutral': 1,...   \n",
       "\n",
       "                                            messages  \\\n",
       "0  [{'push_content': '反觀台灣超大方，引進一堆東南亞人y', 'push_i...   \n",
       "1  [{'push_content': '中國或成最大贏家', 'push_ipdatetime...   \n",
       "2  [{'push_content': '丁跟姚都已經變小丑等極了', 'push_ipdate...   \n",
       "3  [{'push_content': '抓到了  鼓勵飲酒', 'push_ipdatetim...   \n",
       "4  [{'push_content': 'https://youtu.be/BtEO8q0Y1y...   \n",
       "\n",
       "                                                 url  \n",
       "0  https://www.ptt.cc/bbs/Gossiping/M.1540813228....  \n",
       "1  https://www.ptt.cc/bbs/Gossiping/M.1540813282....  \n",
       "2  https://www.ptt.cc/bbs/Gossiping/M.1540813302....  \n",
       "3  https://www.ptt.cc/bbs/Gossiping/M.1540813337....  \n",
       "4  https://www.ptt.cc/bbs/Gossiping/M.1540813401....  "
      ]
     },
     "execution_count": 6,
     "metadata": {},
     "output_type": "execute_result"
    }
   ],
   "source": [
    "ptt.head()"
   ]
  },
  {
   "cell_type": "code",
   "execution_count": null,
   "metadata": {},
   "outputs": [],
   "source": []
  }
 ],
 "metadata": {
  "kernelspec": {
   "display_name": "Python 3",
   "language": "python",
   "name": "python3"
  },
  "language_info": {
   "codemirror_mode": {
    "name": "ipython",
    "version": 3
   },
   "file_extension": ".py",
   "mimetype": "text/x-python",
   "name": "python",
   "nbconvert_exporter": "python",
   "pygments_lexer": "ipython3",
   "version": "3.7.0"
  }
 },
 "nbformat": 4,
 "nbformat_minor": 2
}

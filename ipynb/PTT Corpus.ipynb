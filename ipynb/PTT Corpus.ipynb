{
 "cells": [
  {
   "cell_type": "markdown",
   "metadata": {
    "slideshow": {
     "slide_type": "slide"
    }
   },
   "source": [
    "# PTT Web Crawler\n",
    "https://github.com/jwlin/ptt-web-crawler.git"
   ]
  },
  {
   "cell_type": "code",
   "execution_count": 1,
   "metadata": {
    "slideshow": {
     "slide_type": "subslide"
    }
   },
   "outputs": [],
   "source": [
    "import pandas as pd\n",
    "import json"
   ]
  },
  {
   "cell_type": "code",
   "execution_count": 2,
   "metadata": {
    "slideshow": {
     "slide_type": "-"
    }
   },
   "outputs": [],
   "source": [
    "from pathlib import Path\n",
    "data_folder = Path(\"../data/\")"
   ]
  },
  {
   "cell_type": "code",
   "execution_count": 3,
   "metadata": {
    "slideshow": {
     "slide_type": "slide"
    }
   },
   "outputs": [],
   "source": [
    "with open(data_folder / 'Gossiping.json') as file:\n",
    "    ptt = file.read()\n",
    "ptt = json.loads(ptt)"
   ]
  },
  {
   "cell_type": "code",
   "execution_count": 4,
   "metadata": {
    "slideshow": {
     "slide_type": "slide"
    }
   },
   "outputs": [],
   "source": [
    "ptt = pd.DataFrame.from_dict(ptt['articles'])"
   ]
  },
  {
   "cell_type": "code",
   "execution_count": 5,
   "metadata": {
    "scrolled": true
   },
   "outputs": [
    {
     "data": {
      "text/html": [
       "<div>\n",
       "<style scoped>\n",
       "    .dataframe tbody tr th:only-of-type {\n",
       "        vertical-align: middle;\n",
       "    }\n",
       "\n",
       "    .dataframe tbody tr th {\n",
       "        vertical-align: top;\n",
       "    }\n",
       "\n",
       "    .dataframe thead th {\n",
       "        text-align: right;\n",
       "    }\n",
       "</style>\n",
       "<table border=\"1\" class=\"dataframe\">\n",
       "  <thead>\n",
       "    <tr style=\"text-align: right;\">\n",
       "      <th></th>\n",
       "      <th>article_id</th>\n",
       "      <th>article_title</th>\n",
       "      <th>author</th>\n",
       "      <th>board</th>\n",
       "      <th>content</th>\n",
       "      <th>date</th>\n",
       "      <th>ip</th>\n",
       "      <th>message_count</th>\n",
       "      <th>messages</th>\n",
       "      <th>url</th>\n",
       "    </tr>\n",
       "  </thead>\n",
       "  <tbody>\n",
       "    <tr>\n",
       "      <th>0</th>\n",
       "      <td>M.1540787658.A.8B6</td>\n",
       "      <td>[新聞] 老婆讓韓國瑜睡一晚？邱議瑩失言道歉</td>\n",
       "      <td>caserchen (cc)</td>\n",
       "      <td>Gossiping</td>\n",
       "      <td>老婆讓韓國瑜睡一晚？邱議瑩失言道歉 https://tinyurl.com/y878loup...</td>\n",
       "      <td>Mon Oct 29 12:34:15 2018</td>\n",
       "      <td>220.142.92.191</td>\n",
       "      <td>{'all': 49, 'boo': 15, 'count': -5, 'neutral':...</td>\n",
       "      <td>[{'push_content': '有道歉就好', 'push_ipdatetime': ...</td>\n",
       "      <td>https://www.ptt.cc/bbs/Gossiping/M.1540787658....</td>\n",
       "    </tr>\n",
       "    <tr>\n",
       "      <th>1</th>\n",
       "      <td>M.1540787665.A.B9F</td>\n",
       "      <td>[問卦] 所以清潔工找你借2000元 單兵如何處置</td>\n",
       "      <td>Aruka0924 (Aruka)</td>\n",
       "      <td>Gossiping</td>\n",
       "      <td>借了=可能食髓知味 之後繼續找你借 越借越大筆 而且即使有借條 大概也不會還 不借=可能被殺...</td>\n",
       "      <td>Mon Oct 29 12:34:23 2018</td>\n",
       "      <td>142.44.139.84</td>\n",
       "      <td>{'all': 19, 'boo': 3, 'count': 6, 'neutral': 7...</td>\n",
       "      <td>[{'push_content': '掉頭就跑', 'push_ipdatetime': '...</td>\n",
       "      <td>https://www.ptt.cc/bbs/Gossiping/M.1540787665....</td>\n",
       "    </tr>\n",
       "    <tr>\n",
       "      <th>2</th>\n",
       "      <td>M.1540787675.A.8E9</td>\n",
       "      <td>[問卦] 現在社會沒讀大學是不是低端人口</td>\n",
       "      <td>poloyabi (藍染接班人2.0)</td>\n",
       "      <td>Gossiping</td>\n",
       "      <td>到底什麼是低端人口? 沒讀大學? 收入低還是什麼 為何1個42歲的人 敢跟24歲學生借錢? ...</td>\n",
       "      <td>Mon Oct 29 12:34:32 2018</td>\n",
       "      <td>110.28.108.26</td>\n",
       "      <td>{'all': 6, 'boo': 1, 'count': 0, 'neutral': 4,...</td>\n",
       "      <td>[{'push_content': '館長要森77', 'push_ipdatetime':...</td>\n",
       "      <td>https://www.ptt.cc/bbs/Gossiping/M.1540787675....</td>\n",
       "    </tr>\n",
       "    <tr>\n",
       "      <th>3</th>\n",
       "      <td>M.1540787688.A.495</td>\n",
       "      <td>[問卦] 萌萌發現治療愛滋病方法的八卦</td>\n",
       "      <td>milkcat0319 (milkcat不給，把你綁住只)</td>\n",
       "      <td>Gossiping</td>\n",
       "      <td>今天早上朋友傳給我的 https://i.imgur.com/5IImmk3.jpg 台灣真...</td>\n",
       "      <td>Mon Oct 29 12:34:46 2018</td>\n",
       "      <td>39.9.30.38</td>\n",
       "      <td>{'all': 13, 'boo': 2, 'count': 1, 'neutral': 8...</td>\n",
       "      <td>[{'push_content': '....', 'push_ipdatetime': '...</td>\n",
       "      <td>https://www.ptt.cc/bbs/Gossiping/M.1540787688....</td>\n",
       "    </tr>\n",
       "    <tr>\n",
       "      <th>4</th>\n",
       "      <td>M.1540787739.A.0D2</td>\n",
       "      <td>Re: [問卦] 成大穿牆人的八卦?</td>\n",
       "      <td>YUreo (油流油☆肥宅)</td>\n",
       "      <td>Gossiping</td>\n",
       "      <td>: 傳說成大以前有身穿白色衣服的穿牆人 : 快速穿越宿舍每一個房間 : 穿牆人是成大學生嗎？...</td>\n",
       "      <td>Mon Oct 29 12:35:34 2018</td>\n",
       "      <td>36.226.172.130</td>\n",
       "      <td>{'all': 8, 'boo': 7, 'count': -7, 'neutral': 1...</td>\n",
       "      <td>[{'push_content': 'ㄩㄇ', 'push_ipdatetime': '39...</td>\n",
       "      <td>https://www.ptt.cc/bbs/Gossiping/M.1540787739....</td>\n",
       "    </tr>\n",
       "  </tbody>\n",
       "</table>\n",
       "</div>"
      ],
      "text/plain": [
       "           article_id              article_title  \\\n",
       "0  M.1540787658.A.8B6     [新聞] 老婆讓韓國瑜睡一晚？邱議瑩失言道歉   \n",
       "1  M.1540787665.A.B9F  [問卦] 所以清潔工找你借2000元 單兵如何處置   \n",
       "2  M.1540787675.A.8E9       [問卦] 現在社會沒讀大學是不是低端人口   \n",
       "3  M.1540787688.A.495        [問卦] 萌萌發現治療愛滋病方法的八卦   \n",
       "4  M.1540787739.A.0D2         Re: [問卦] 成大穿牆人的八卦?   \n",
       "\n",
       "                          author      board  \\\n",
       "0                 caserchen (cc)  Gossiping   \n",
       "1              Aruka0924 (Aruka)  Gossiping   \n",
       "2            poloyabi (藍染接班人2.0)  Gossiping   \n",
       "3  milkcat0319 (milkcat不給，把你綁住只)  Gossiping   \n",
       "4                 YUreo (油流油☆肥宅)  Gossiping   \n",
       "\n",
       "                                             content  \\\n",
       "0  老婆讓韓國瑜睡一晚？邱議瑩失言道歉 https://tinyurl.com/y878loup...   \n",
       "1  借了=可能食髓知味 之後繼續找你借 越借越大筆 而且即使有借條 大概也不會還 不借=可能被殺...   \n",
       "2  到底什麼是低端人口? 沒讀大學? 收入低還是什麼 為何1個42歲的人 敢跟24歲學生借錢? ...   \n",
       "3  今天早上朋友傳給我的 https://i.imgur.com/5IImmk3.jpg 台灣真...   \n",
       "4  : 傳說成大以前有身穿白色衣服的穿牆人 : 快速穿越宿舍每一個房間 : 穿牆人是成大學生嗎？...   \n",
       "\n",
       "                       date              ip  \\\n",
       "0  Mon Oct 29 12:34:15 2018  220.142.92.191   \n",
       "1  Mon Oct 29 12:34:23 2018   142.44.139.84   \n",
       "2  Mon Oct 29 12:34:32 2018   110.28.108.26   \n",
       "3  Mon Oct 29 12:34:46 2018      39.9.30.38   \n",
       "4  Mon Oct 29 12:35:34 2018  36.226.172.130   \n",
       "\n",
       "                                       message_count  \\\n",
       "0  {'all': 49, 'boo': 15, 'count': -5, 'neutral':...   \n",
       "1  {'all': 19, 'boo': 3, 'count': 6, 'neutral': 7...   \n",
       "2  {'all': 6, 'boo': 1, 'count': 0, 'neutral': 4,...   \n",
       "3  {'all': 13, 'boo': 2, 'count': 1, 'neutral': 8...   \n",
       "4  {'all': 8, 'boo': 7, 'count': -7, 'neutral': 1...   \n",
       "\n",
       "                                            messages  \\\n",
       "0  [{'push_content': '有道歉就好', 'push_ipdatetime': ...   \n",
       "1  [{'push_content': '掉頭就跑', 'push_ipdatetime': '...   \n",
       "2  [{'push_content': '館長要森77', 'push_ipdatetime':...   \n",
       "3  [{'push_content': '....', 'push_ipdatetime': '...   \n",
       "4  [{'push_content': 'ㄩㄇ', 'push_ipdatetime': '39...   \n",
       "\n",
       "                                                 url  \n",
       "0  https://www.ptt.cc/bbs/Gossiping/M.1540787658....  \n",
       "1  https://www.ptt.cc/bbs/Gossiping/M.1540787665....  \n",
       "2  https://www.ptt.cc/bbs/Gossiping/M.1540787675....  \n",
       "3  https://www.ptt.cc/bbs/Gossiping/M.1540787688....  \n",
       "4  https://www.ptt.cc/bbs/Gossiping/M.1540787739....  "
      ]
     },
     "execution_count": 5,
     "metadata": {},
     "output_type": "execute_result"
    }
   ],
   "source": [
    "ptt.head()"
   ]
  },
  {
   "cell_type": "code",
   "execution_count": null,
   "metadata": {},
   "outputs": [],
   "source": []
  }
 ],
 "metadata": {
  "kernelspec": {
   "display_name": "Python 3",
   "language": "python",
   "name": "python3"
  },
  "language_info": {
   "codemirror_mode": {
    "name": "ipython",
    "version": 3
   },
   "file_extension": ".py",
   "mimetype": "text/x-python",
   "name": "python",
   "nbconvert_exporter": "python",
   "pygments_lexer": "ipython3",
   "version": "3.7.0"
  }
 },
 "nbformat": 4,
 "nbformat_minor": 2
}

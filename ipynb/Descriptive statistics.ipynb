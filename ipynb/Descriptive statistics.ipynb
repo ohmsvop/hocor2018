{
 "cells": [
  {
   "cell_type": "markdown",
   "metadata": {},
   "source": [
    "## Outline\n",
    "* Frequency\n",
    "* Measures of central tendency\n",
    "    * mode\n",
    "    * median\n",
    "    * arithmetic mean\n",
    "* Measures of dispersion\n",
    "    * range\n",
    "    * Quantiles and quartiles \n",
    "    * The standard deviation/variance\n",
    "* Centering and standardization\n",
    "* Coefficients of correlation"
   ]
  },
  {
   "cell_type": "code",
   "execution_count": null,
   "metadata": {
    "collapsed": true
   },
   "outputs": [],
   "source": [
    "keyword = \"柯文哲\"\n",
    "def find_keyword_in_content(keyword):\n",
    "    truth_value = [keyword in text for text in df.content]\n",
    "    df[keyword] = truth_value\n",
    "pd.crosstab(df[\"柯文哲\"], columns=\"count\")"
   ]
  },
  {
   "cell_type": "code",
   "execution_count": null,
   "metadata": {
    "collapsed": true
   },
   "outputs": [],
   "source": [
    "find_keyword_in_content(\"韓國瑜\")\n",
    "two_persons = pd.crosstab(df[\"柯文哲\"], df[\"韓國瑜\"])"
   ]
  },
  {
   "cell_type": "code",
   "execution_count": null,
   "metadata": {
    "collapsed": true
   },
   "outputs": [],
   "source": [
    "two_persons"
   ]
  }
 ],
 "metadata": {
  "anaconda-cloud": {},
  "kernelspec": {
   "display_name": "Python [default]",
   "language": "python",
   "name": "python3"
  },
  "language_info": {
   "codemirror_mode": {
    "name": "ipython",
    "version": 3
   },
   "file_extension": ".py",
   "mimetype": "text/x-python",
   "name": "python",
   "nbconvert_exporter": "python",
   "pygments_lexer": "ipython3",
   "version": "3.5.2"
  }
 },
 "nbformat": 4,
 "nbformat_minor": 1
}

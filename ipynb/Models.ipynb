{
 "cells": [
  {
   "cell_type": "markdown",
   "metadata": {},
   "source": [
    "## Outline\n",
    "* Linear models\n",
    "    * a binary predictor \n",
    "    * a categorical predictor\n",
    "    * a numeric predictor\n",
    "    * two categorical predictors\n",
    "    * a categorical and a numeric predictor\n",
    "    * two numeric predictors\n",
    "* Binary logistic regression models\n",
    "    * a binary predictor\n",
    "    * a categorical predictor\n",
    "    * a numeric predictor\n",
    "    * two categorical predictors\n",
    "    * a categorical and a numeric predictor\n",
    "    * two numeric predictors"
   ]
  },
  {
   "cell_type": "code",
   "execution_count": null,
   "metadata": {
    "collapsed": true
   },
   "outputs": [],
   "source": []
  }
 ],
 "metadata": {
  "kernelspec": {
   "display_name": "Python [default]",
   "language": "python",
   "name": "python3"
  },
  "language_info": {
   "codemirror_mode": {
    "name": "ipython",
    "version": 3
   },
   "file_extension": ".py",
   "mimetype": "text/x-python",
   "name": "python",
   "nbconvert_exporter": "python",
   "pygments_lexer": "ipython3",
   "version": "3.5.2"
  }
 },
 "nbformat": 4,
 "nbformat_minor": 1
}

{
 "cells": [
  {
   "cell_type": "markdown",
   "metadata": {},
   "source": [
    "# Outline\n",
    "\n",
    "* Preprocessing\n",
    "* Binary logistic regression models\n",
    "* Linear models\n"
   ]
  },
  {
   "cell_type": "markdown",
   "metadata": {},
   "source": [
    "## Preprocessing"
   ]
  },
  {
   "cell_type": "code",
   "execution_count": 1,
   "metadata": {
    "scrolled": true
   },
   "outputs": [
    {
     "data": {
      "text/html": [
       "<div>\n",
       "<style scoped>\n",
       "    .dataframe tbody tr th:only-of-type {\n",
       "        vertical-align: middle;\n",
       "    }\n",
       "\n",
       "    .dataframe tbody tr th {\n",
       "        vertical-align: top;\n",
       "    }\n",
       "\n",
       "    .dataframe thead th {\n",
       "        text-align: right;\n",
       "    }\n",
       "</style>\n",
       "<table border=\"1\" class=\"dataframe\">\n",
       "  <thead>\n",
       "    <tr style=\"text-align: right;\">\n",
       "      <th></th>\n",
       "      <th>title</th>\n",
       "      <th>content</th>\n",
       "      <th>time</th>\n",
       "      <th>provider</th>\n",
       "      <th>url</th>\n",
       "    </tr>\n",
       "  </thead>\n",
       "  <tbody>\n",
       "    <tr>\n",
       "      <th>0</th>\n",
       "      <td>「把25年前韓國瑜打人事件當英雄看」陳水扁批：吳敦義「災難政治學」的表現</td>\n",
       "      <td>國民黨主席吳敦義日前提到高雄市長候選人韓國瑜過去打陳水扁，表示「很認同跟敬佩」並形容「允文允...</td>\n",
       "      <td>2018-10-22 12:16:02+08:00</td>\n",
       "      <td>風傳媒</td>\n",
       "      <td>https://tw.news.yahoo.com/把25年前韓國瑜打人事件當英雄看-陳水扁...</td>\n",
       "    </tr>\n",
       "    <tr>\n",
       "      <th>1</th>\n",
       "      <td>【Yahoo論壇／林青弘】柯文哲是否一再說謊？</td>\n",
       "      <td>柯文哲市長在台北市北投區七星公園造勢，行動競選總部的大卡車開進公園，違規臨停。競辦被開罰六張...</td>\n",
       "      <td>2018-10-22 14:00:26+08:00</td>\n",
       "      <td>林青弘</td>\n",
       "      <td>https://tw.news.yahoo.com/【yahoo論壇%EF%BC%8F林青弘...</td>\n",
       "    </tr>\n",
       "    <tr>\n",
       "      <th>2</th>\n",
       "      <td>【Yahoo論壇】民進黨誰最怕陳其邁落選？</td>\n",
       "      <td>讀者投書：廖念漢（現任奇策盟文宣部主任、曾任海巡署專聘講師）\\n 《長平之戰》是戰國時代最戲...</td>\n",
       "      <td>2018-10-22 13:57:44+08:00</td>\n",
       "      <td>讀者投書</td>\n",
       "      <td>https://tw.news.yahoo.com/【yahoo論壇】民進黨誰最怕陳其邁落選...</td>\n",
       "    </tr>\n",
       "    <tr>\n",
       "      <th>3</th>\n",
       "      <td>抽中籤王 韓國瑜車隊掃街 民眾路邊紛比讚</td>\n",
       "      <td>國民黨高雄市長候選人韓國瑜聲勢上漲，又抽中一號籤王，心情相當興奮，立即展開掃街拜，經過的地方...</td>\n",
       "      <td>2018-10-22 13:32:00+08:00</td>\n",
       "      <td>EBC東森新聞</td>\n",
       "      <td>https://tw.news.yahoo.com/抽中籤王-韓國瑜車隊掃街-民眾路邊紛比讚...</td>\n",
       "    </tr>\n",
       "    <tr>\n",
       "      <th>4</th>\n",
       "      <td>百年土地公上香祈福 陳學聖提五不原則</td>\n",
       "      <td>【綜合報導】普悠瑪列車出軌意外舉國震驚如同國難，令社會大眾、競選團隊及陳學聖本人都感到十分沉...</td>\n",
       "      <td>2018-10-22 13:17:44+08:00</td>\n",
       "      <td>民眾日報</td>\n",
       "      <td>https://tw.news.yahoo.com/百年土地公上香祈福-陳學聖提五不原則-0...</td>\n",
       "    </tr>\n",
       "  </tbody>\n",
       "</table>\n",
       "</div>"
      ],
      "text/plain": [
       "                                  title  \\\n",
       "0  「把25年前韓國瑜打人事件當英雄看」陳水扁批：吳敦義「災難政治學」的表現   \n",
       "1               【Yahoo論壇／林青弘】柯文哲是否一再說謊？   \n",
       "2                 【Yahoo論壇】民進黨誰最怕陳其邁落選？   \n",
       "3                  抽中籤王 韓國瑜車隊掃街 民眾路邊紛比讚   \n",
       "4                    百年土地公上香祈福 陳學聖提五不原則   \n",
       "\n",
       "                                             content  \\\n",
       "0  國民黨主席吳敦義日前提到高雄市長候選人韓國瑜過去打陳水扁，表示「很認同跟敬佩」並形容「允文允...   \n",
       "1  柯文哲市長在台北市北投區七星公園造勢，行動競選總部的大卡車開進公園，違規臨停。競辦被開罰六張...   \n",
       "2  讀者投書：廖念漢（現任奇策盟文宣部主任、曾任海巡署專聘講師）\\n 《長平之戰》是戰國時代最戲...   \n",
       "3  國民黨高雄市長候選人韓國瑜聲勢上漲，又抽中一號籤王，心情相當興奮，立即展開掃街拜，經過的地方...   \n",
       "4  【綜合報導】普悠瑪列車出軌意外舉國震驚如同國難，令社會大眾、競選團隊及陳學聖本人都感到十分沉...   \n",
       "\n",
       "                        time provider  \\\n",
       "0  2018-10-22 12:16:02+08:00      風傳媒   \n",
       "1  2018-10-22 14:00:26+08:00      林青弘   \n",
       "2  2018-10-22 13:57:44+08:00     讀者投書   \n",
       "3  2018-10-22 13:32:00+08:00  EBC東森新聞   \n",
       "4  2018-10-22 13:17:44+08:00     民眾日報   \n",
       "\n",
       "                                                 url  \n",
       "0  https://tw.news.yahoo.com/把25年前韓國瑜打人事件當英雄看-陳水扁...  \n",
       "1  https://tw.news.yahoo.com/【yahoo論壇%EF%BC%8F林青弘...  \n",
       "2  https://tw.news.yahoo.com/【yahoo論壇】民進黨誰最怕陳其邁落選...  \n",
       "3  https://tw.news.yahoo.com/抽中籤王-韓國瑜車隊掃街-民眾路邊紛比讚...  \n",
       "4  https://tw.news.yahoo.com/百年土地公上香祈福-陳學聖提五不原則-0...  "
      ]
     },
     "execution_count": 1,
     "metadata": {},
     "output_type": "execute_result"
    }
   ],
   "source": [
    "import pandas as pd\n",
    "from pathlib import Path\n",
    "data_folder = Path(\"../data/\")\n",
    "\n",
    "news = pd.read_csv(data_folder / \"news.csv\")\n",
    "news.head()"
   ]
  },
  {
   "cell_type": "code",
   "execution_count": 2,
   "metadata": {},
   "outputs": [],
   "source": [
    "import jieba"
   ]
  },
  {
   "cell_type": "code",
   "execution_count": 3,
   "metadata": {
    "scrolled": false
   },
   "outputs": [
    {
     "name": "stdout",
     "output_type": "stream",
     "text": [
      "國民黨主席吳敦義日前提到高雄市長候選人韓國瑜過去打陳水扁，表示「很認同跟敬佩」並形容「允文允武」。前總統陳水扁今（22）日在《新勇哥物語》質疑，這是「災難政治學」的表現，反批吳敦義以為高雄市長贏定了，得意忘形的囂張之情溢於言表。\n",
      "《新勇哥物語》今天刊出，陳水扁借勇哥表示，不相信吳敦義會講鼓勵暴力的話，也不相信吳敦義主席會認為，當年韓國瑜公然在國會殿堂打阿扁打到住院是對的。\n",
      "陳水扁指出，吳敦義的發言，是「災難政治學」的表現，他批評吳敦義還真的以為他提名韓國瑜參選高雄市長贏定了，得意忘形的囂張之情溢於言表，竟把25年前的打人事件拿出來捧為文武雙全的英雄看待。「是非不明，黑白不分，不是很可怕嗎？！」\n",
      "陳水扁也在文中還原，1993年5月韓國瑜推倒他導致受傷住院，隔天有幫派份子聚集到立法院，衝突場面導致10多人受傷掛彩，韓國瑜遭到質疑找黑道兄弟助陣，風波一度越演越烈。韓國瑜後來也道歉，「我願意為我肢體衝突，向陳水扁委員致歉。」\n",
      "陳水扁表示，當時他是在幫榮民講話，因為他對政府的榮民就養照護問題向退輔會提出質詢，認為「不能把榮民當豬養，不是說榮民是豬」。韓國瑜聽到「豬」就抓狂，這跟扁小時候家裡養豬賣錢供給讀書，生活經驗完全不同。（推薦閱讀：普悠瑪翻車慘劇》吳敦義籲所有九合一選舉候選人暫停選舉活動）\n",
      "相關報導● 吳敦義因韓國瑜「打扁」才提名選高雄？段宜康酸：乾脆提名殺過人的！● 強力反擊韓國瑜 洪耀福：愛河水臭、自來水不能喝，這是吳敦義當市長時的高雄\n"
     ]
    }
   ],
   "source": [
    "a = news.content[0]\n",
    "print(a)"
   ]
  },
  {
   "cell_type": "code",
   "execution_count": 4,
   "metadata": {
    "scrolled": false
   },
   "outputs": [],
   "source": [
    "b = jieba.cut(a)"
   ]
  },
  {
   "cell_type": "code",
   "execution_count": 5,
   "metadata": {},
   "outputs": [
    {
     "name": "stderr",
     "output_type": "stream",
     "text": [
      "Building prefix dict from the default dictionary ...\n",
      "Loading model from cache /var/folders/80/gbrxkvp9687cyvtdv78_5z3h0000gn/T/jieba.cache\n",
      "Loading model cost 1.592 seconds.\n",
      "Prefix dict has been built succesfully.\n"
     ]
    }
   ],
   "source": [
    "from collections import Counter\n",
    "c = Counter(b)\n"
   ]
  },
  {
   "cell_type": "code",
   "execution_count": 6,
   "metadata": {
    "scrolled": true
   },
   "outputs": [
    {
     "name": "stdout",
     "output_type": "stream",
     "text": [
      "Counter({'，': 29, '的': 11, '「': 9, '」': 9, '韓國瑜': 8, '。': 8, '陳': 6, '水扁': 5, '\\n': 5, '在': 4, '他': 4, '高雄市': 3, '長': 3, '表示': 3, '》': 3, '為': 3, '也': 3, '是': 3, '提名': 3, '：': 3, ' ': 3, '主席': 2, '吳敦義': 2, '很': 2, '（': 2, '）': 2, '《': 2, '新勇哥': 2, '物語': 2, '質疑': 2, '這是': 2, '災難': 2, '政治': 2, '學': 2, '表現': 2, '贏定': 2, '了': 2, '得意忘形': 2, '囂張': 2, '之': 2, '情溢': 2, '於': 2, '言表': 2, '不': 2, '相信': 2, '認為': 2, '住院': 2, '對': 2, '把': 2, '不是': 2, '？': 2, '！': 2, '受傷': 2, '到': 2, '向': 2, '水': 2, '就': 2, '不能': 2, '●': 2, '國民黨': 1, '日前': 1, '提到': 1, '候選人': 1, '過去': 1, '打陳水': 1, '扁': 1, '認同': 1, '跟': 1, '敬佩': 1, '並': 1, '形容': 1, '允文允武': 1, '前': 1, '總統': 1, '今': 1, '22': 1, '日': 1, '反批': 1, '吳敦義以': 1, '今天': 1, '刊出': 1, '借勇哥': 1, '吳敦義會': 1, '講鼓勵': 1, '暴力': 1, '話': 1, '會': 1, '當年': 1, '公然': 1, '國會': 1, '殿堂': 1, '打阿扁': 1, '打到': 1, '指出': 1, '吳敦義的': 1, '發言': 1, '批評': 1, '吳敦義還': 1, '真的': 1, '以為': 1, '參選': 1, '竟': 1, '25': 1, '年前': 1, '打人': 1, '事件': 1, '拿出': 1, '來': 1, '捧': 1, '文武': 1, '雙全': 1, '英雄': 1, '看待': 1, '是非': 1, '不明': 1, '黑白不分': 1, '可怕': 1, '嗎': 1, '文中': 1, '還原': 1, '1993': 1, '年': 1, '5': 1, '月': 1, '推倒': 1, '他導致': 1, '隔天': 1, '有': 1, '幫派': 1, '份子': 1, '聚集': 1, '立法院': 1, '衝突場': 1, '面導致': 1, '10': 1, '多人': 1, '掛彩': 1, '遭到': 1, '找': 1, '黑道': 1, '兄弟': 1, '助陣': 1, '風波': 1, '一度': 1, '越演': 1, '越烈': 1, '韓國瑜後來': 1, '道歉': 1, '我願意': 1, '我': 1, '肢體': 1, '衝突': 1, '扁委員': 1, '致歉': 1, '當時': 1, '幫榮民': 1, '講話': 1, '因為': 1, '政府': 1, '榮民': 1, '養照護': 1, '問題': 1, '退': 1, '輔會': 1, '提出': 1, '質詢': 1, '榮民當': 1, '豬養': 1, '說榮民': 1, '是豬': 1, '聽': 1, '豬': 1, '抓狂': 1, '這跟': 1, '扁小時': 1, '候家裡': 1, '養豬': 1, '賣': 1, '錢': 1, '供給': 1, '讀書': 1, '生活': 1, '經驗': 1, '完全': 1, '不同': 1, '推薦': 1, '閱讀': 1, '普悠瑪': 1, '翻車': 1, '慘劇': 1, '吳敦義籲': 1, '所有': 1, '九': 1, '合一': 1, '選舉候': 1, '選人': 1, '暫停': 1, '選舉': 1, '活動': 1, '相關': 1, '報導': 1, '吳敦義因': 1, '打扁': 1, '才': 1, '選高雄': 1, '段': 1, '宜康酸': 1, '乾脆': 1, '殺過': 1, '人': 1, '強力': 1, '反擊': 1, '洪耀福': 1, '愛': 1, '河水': 1, '臭': 1, '、': 1, '自來': 1, '喝': 1, '吳敦義當': 1, '市長': 1, '時': 1, '高雄': 1})\n"
     ]
    }
   ],
   "source": [
    "print(c)"
   ]
  },
  {
   "cell_type": "code",
   "execution_count": 7,
   "metadata": {
    "scrolled": false
   },
   "outputs": [
    {
     "data": {
      "text/plain": [
       "國民黨      1\n",
       "主席       2\n",
       "吳敦義      2\n",
       "日前       1\n",
       "提到       1\n",
       "高雄市      3\n",
       "長        3\n",
       "候選人      1\n",
       "韓國瑜      8\n",
       "過去       1\n",
       "打陳水      1\n",
       "扁        1\n",
       "，       29\n",
       "表示       3\n",
       "「        9\n",
       "很        2\n",
       "認同       1\n",
       "跟        1\n",
       "敬佩       1\n",
       "」        9\n",
       "並        1\n",
       "形容       1\n",
       "允文允武     1\n",
       "。        8\n",
       "前        1\n",
       "總統       1\n",
       "陳        6\n",
       "水扁       5\n",
       "今        1\n",
       "（        2\n",
       "        ..\n",
       "選人       1\n",
       "暫停       1\n",
       "選舉       1\n",
       "活動       1\n",
       "相關       1\n",
       "報導       1\n",
       "●        2\n",
       "         3\n",
       "吳敦義因     1\n",
       "打扁       1\n",
       "才        1\n",
       "選高雄      1\n",
       "段        1\n",
       "宜康酸      1\n",
       "乾脆       1\n",
       "殺過       1\n",
       "人        1\n",
       "強力       1\n",
       "反擊       1\n",
       "洪耀福      1\n",
       "愛        1\n",
       "河水       1\n",
       "臭        1\n",
       "、        1\n",
       "自來       1\n",
       "喝        1\n",
       "吳敦義當     1\n",
       "市長       1\n",
       "時        1\n",
       "高雄       1\n",
       "Length: 223, dtype: int64"
      ]
     },
     "execution_count": 7,
     "metadata": {},
     "output_type": "execute_result"
    }
   ],
   "source": [
    "pd.Series(c)"
   ]
  },
  {
   "cell_type": "code",
   "execution_count": 8,
   "metadata": {},
   "outputs": [],
   "source": [
    "def word_frequency(text):\n",
    "    words = jieba.cut(text)\n",
    "    word_freq = Counter(words)\n",
    "    return pd.Series(word_freq)"
   ]
  },
  {
   "cell_type": "code",
   "execution_count": 9,
   "metadata": {},
   "outputs": [],
   "source": [
    "news_word_freq = news.content.apply(word_frequency)"
   ]
  },
  {
   "cell_type": "code",
   "execution_count": 10,
   "metadata": {},
   "outputs": [],
   "source": [
    "news_word_freq = news_word_freq.fillna(0)"
   ]
  },
  {
   "cell_type": "code",
   "execution_count": 11,
   "metadata": {},
   "outputs": [],
   "source": [
    "news['length'] = news['content'].apply(len)"
   ]
  },
  {
   "cell_type": "markdown",
   "metadata": {},
   "source": [
    "### Binary logistic regression models"
   ]
  },
  {
   "cell_type": "code",
   "execution_count": 12,
   "metadata": {},
   "outputs": [],
   "source": [
    "selected_news = news.loc[news.provider.isin(['中央社','聯合新聞網']), ['content','provider']]"
   ]
  },
  {
   "cell_type": "code",
   "execution_count": 13,
   "metadata": {},
   "outputs": [],
   "source": [
    "selected_news_word_freq = news_word_freq.iloc[selected_news.index]"
   ]
  },
  {
   "cell_type": "code",
   "execution_count": 14,
   "metadata": {
    "scrolled": true
   },
   "outputs": [
    {
     "name": "stdout",
     "output_type": "stream",
     "text": [
      "0.19.2\n"
     ]
    }
   ],
   "source": [
    "import sklearn\n",
    "print(sklearn.__version__)"
   ]
  },
  {
   "cell_type": "code",
   "execution_count": 15,
   "metadata": {
    "scrolled": true
   },
   "outputs": [],
   "source": [
    "from sklearn.model_selection import train_test_split\n",
    "X_train, X_test, y_train, y_test = train_test_split(\n",
    "    selected_news_word_freq, \n",
    "    selected_news[['provider']],\n",
    "    test_size=0.3, \n",
    "    random_state=7)"
   ]
  },
  {
   "cell_type": "code",
   "execution_count": 16,
   "metadata": {
    "scrolled": true
   },
   "outputs": [
    {
     "data": {
      "text/html": [
       "<div>\n",
       "<style scoped>\n",
       "    .dataframe tbody tr th:only-of-type {\n",
       "        vertical-align: middle;\n",
       "    }\n",
       "\n",
       "    .dataframe tbody tr th {\n",
       "        vertical-align: top;\n",
       "    }\n",
       "\n",
       "    .dataframe thead th {\n",
       "        text-align: right;\n",
       "    }\n",
       "</style>\n",
       "<table border=\"1\" class=\"dataframe\">\n",
       "  <thead>\n",
       "    <tr style=\"text-align: right;\">\n",
       "      <th></th>\n",
       "      <th>provider</th>\n",
       "    </tr>\n",
       "  </thead>\n",
       "  <tbody>\n",
       "    <tr>\n",
       "      <th>73</th>\n",
       "      <td>中央社</td>\n",
       "    </tr>\n",
       "    <tr>\n",
       "      <th>74</th>\n",
       "      <td>中央社</td>\n",
       "    </tr>\n",
       "    <tr>\n",
       "      <th>119</th>\n",
       "      <td>中央社</td>\n",
       "    </tr>\n",
       "    <tr>\n",
       "      <th>14</th>\n",
       "      <td>聯合新聞網</td>\n",
       "    </tr>\n",
       "    <tr>\n",
       "      <th>109</th>\n",
       "      <td>中央社</td>\n",
       "    </tr>\n",
       "    <tr>\n",
       "      <th>49</th>\n",
       "      <td>中央社</td>\n",
       "    </tr>\n",
       "    <tr>\n",
       "      <th>97</th>\n",
       "      <td>聯合新聞網</td>\n",
       "    </tr>\n",
       "    <tr>\n",
       "      <th>107</th>\n",
       "      <td>中央社</td>\n",
       "    </tr>\n",
       "    <tr>\n",
       "      <th>72</th>\n",
       "      <td>中央社</td>\n",
       "    </tr>\n",
       "    <tr>\n",
       "      <th>96</th>\n",
       "      <td>聯合新聞網</td>\n",
       "    </tr>\n",
       "    <tr>\n",
       "      <th>58</th>\n",
       "      <td>中央社</td>\n",
       "    </tr>\n",
       "    <tr>\n",
       "      <th>90</th>\n",
       "      <td>聯合新聞網</td>\n",
       "    </tr>\n",
       "    <tr>\n",
       "      <th>50</th>\n",
       "      <td>中央社</td>\n",
       "    </tr>\n",
       "    <tr>\n",
       "      <th>95</th>\n",
       "      <td>聯合新聞網</td>\n",
       "    </tr>\n",
       "    <tr>\n",
       "      <th>32</th>\n",
       "      <td>中央社</td>\n",
       "    </tr>\n",
       "    <tr>\n",
       "      <th>98</th>\n",
       "      <td>聯合新聞網</td>\n",
       "    </tr>\n",
       "    <tr>\n",
       "      <th>33</th>\n",
       "      <td>中央社</td>\n",
       "    </tr>\n",
       "    <tr>\n",
       "      <th>91</th>\n",
       "      <td>聯合新聞網</td>\n",
       "    </tr>\n",
       "  </tbody>\n",
       "</table>\n",
       "</div>"
      ],
      "text/plain": [
       "    provider\n",
       "73       中央社\n",
       "74       中央社\n",
       "119      中央社\n",
       "14     聯合新聞網\n",
       "109      中央社\n",
       "49       中央社\n",
       "97     聯合新聞網\n",
       "107      中央社\n",
       "72       中央社\n",
       "96     聯合新聞網\n",
       "58       中央社\n",
       "90     聯合新聞網\n",
       "50       中央社\n",
       "95     聯合新聞網\n",
       "32       中央社\n",
       "98     聯合新聞網\n",
       "33       中央社\n",
       "91     聯合新聞網"
      ]
     },
     "execution_count": 16,
     "metadata": {},
     "output_type": "execute_result"
    }
   ],
   "source": [
    "y_train"
   ]
  },
  {
   "cell_type": "code",
   "execution_count": 17,
   "metadata": {
    "scrolled": true
   },
   "outputs": [
    {
     "data": {
      "text/html": [
       "<div>\n",
       "<style scoped>\n",
       "    .dataframe tbody tr th:only-of-type {\n",
       "        vertical-align: middle;\n",
       "    }\n",
       "\n",
       "    .dataframe tbody tr th {\n",
       "        vertical-align: top;\n",
       "    }\n",
       "\n",
       "    .dataframe thead th {\n",
       "        text-align: right;\n",
       "    }\n",
       "</style>\n",
       "<table border=\"1\" class=\"dataframe\">\n",
       "  <thead>\n",
       "    <tr style=\"text-align: right;\">\n",
       "      <th></th>\n",
       "      <th>國民黨</th>\n",
       "      <th>主席</th>\n",
       "      <th>吳敦義</th>\n",
       "      <th>日前</th>\n",
       "      <th>提到</th>\n",
       "      <th>高雄市</th>\n",
       "      <th>長</th>\n",
       "      <th>候選人</th>\n",
       "      <th>韓國瑜</th>\n",
       "      <th>過去</th>\n",
       "      <th>...</th>\n",
       "      <th>聽過</th>\n",
       "      <th>轟林</th>\n",
       "      <th>建樹少</th>\n",
       "      <th>人馬大陣</th>\n",
       "      <th>仗</th>\n",
       "      <th>老神在在</th>\n",
       "      <th>越熱</th>\n",
       "      <th>富溢</th>\n",
       "      <th>音樂人</th>\n",
       "      <th>傳真</th>\n",
       "    </tr>\n",
       "  </thead>\n",
       "  <tbody>\n",
       "    <tr>\n",
       "      <th>16</th>\n",
       "      <td>0.0</td>\n",
       "      <td>0.0</td>\n",
       "      <td>0.0</td>\n",
       "      <td>0.0</td>\n",
       "      <td>0.0</td>\n",
       "      <td>0.0</td>\n",
       "      <td>5.0</td>\n",
       "      <td>0.0</td>\n",
       "      <td>0.0</td>\n",
       "      <td>0.0</td>\n",
       "      <td>...</td>\n",
       "      <td>0.0</td>\n",
       "      <td>0.0</td>\n",
       "      <td>0.0</td>\n",
       "      <td>0.0</td>\n",
       "      <td>0.0</td>\n",
       "      <td>0.0</td>\n",
       "      <td>0.0</td>\n",
       "      <td>0.0</td>\n",
       "      <td>0.0</td>\n",
       "      <td>0.0</td>\n",
       "    </tr>\n",
       "    <tr>\n",
       "      <th>71</th>\n",
       "      <td>0.0</td>\n",
       "      <td>0.0</td>\n",
       "      <td>0.0</td>\n",
       "      <td>0.0</td>\n",
       "      <td>0.0</td>\n",
       "      <td>0.0</td>\n",
       "      <td>1.0</td>\n",
       "      <td>0.0</td>\n",
       "      <td>0.0</td>\n",
       "      <td>0.0</td>\n",
       "      <td>...</td>\n",
       "      <td>0.0</td>\n",
       "      <td>0.0</td>\n",
       "      <td>0.0</td>\n",
       "      <td>0.0</td>\n",
       "      <td>0.0</td>\n",
       "      <td>0.0</td>\n",
       "      <td>0.0</td>\n",
       "      <td>0.0</td>\n",
       "      <td>0.0</td>\n",
       "      <td>0.0</td>\n",
       "    </tr>\n",
       "    <tr>\n",
       "      <th>15</th>\n",
       "      <td>1.0</td>\n",
       "      <td>0.0</td>\n",
       "      <td>0.0</td>\n",
       "      <td>0.0</td>\n",
       "      <td>0.0</td>\n",
       "      <td>0.0</td>\n",
       "      <td>4.0</td>\n",
       "      <td>1.0</td>\n",
       "      <td>0.0</td>\n",
       "      <td>1.0</td>\n",
       "      <td>...</td>\n",
       "      <td>0.0</td>\n",
       "      <td>0.0</td>\n",
       "      <td>0.0</td>\n",
       "      <td>0.0</td>\n",
       "      <td>0.0</td>\n",
       "      <td>0.0</td>\n",
       "      <td>0.0</td>\n",
       "      <td>0.0</td>\n",
       "      <td>0.0</td>\n",
       "      <td>0.0</td>\n",
       "    </tr>\n",
       "    <tr>\n",
       "      <th>34</th>\n",
       "      <td>0.0</td>\n",
       "      <td>0.0</td>\n",
       "      <td>0.0</td>\n",
       "      <td>0.0</td>\n",
       "      <td>0.0</td>\n",
       "      <td>0.0</td>\n",
       "      <td>3.0</td>\n",
       "      <td>0.0</td>\n",
       "      <td>0.0</td>\n",
       "      <td>0.0</td>\n",
       "      <td>...</td>\n",
       "      <td>0.0</td>\n",
       "      <td>0.0</td>\n",
       "      <td>0.0</td>\n",
       "      <td>0.0</td>\n",
       "      <td>0.0</td>\n",
       "      <td>0.0</td>\n",
       "      <td>0.0</td>\n",
       "      <td>0.0</td>\n",
       "      <td>0.0</td>\n",
       "      <td>0.0</td>\n",
       "    </tr>\n",
       "    <tr>\n",
       "      <th>93</th>\n",
       "      <td>0.0</td>\n",
       "      <td>0.0</td>\n",
       "      <td>0.0</td>\n",
       "      <td>0.0</td>\n",
       "      <td>0.0</td>\n",
       "      <td>3.0</td>\n",
       "      <td>4.0</td>\n",
       "      <td>1.0</td>\n",
       "      <td>9.0</td>\n",
       "      <td>0.0</td>\n",
       "      <td>...</td>\n",
       "      <td>0.0</td>\n",
       "      <td>0.0</td>\n",
       "      <td>0.0</td>\n",
       "      <td>0.0</td>\n",
       "      <td>0.0</td>\n",
       "      <td>0.0</td>\n",
       "      <td>0.0</td>\n",
       "      <td>0.0</td>\n",
       "      <td>0.0</td>\n",
       "      <td>0.0</td>\n",
       "    </tr>\n",
       "    <tr>\n",
       "      <th>92</th>\n",
       "      <td>0.0</td>\n",
       "      <td>0.0</td>\n",
       "      <td>0.0</td>\n",
       "      <td>0.0</td>\n",
       "      <td>0.0</td>\n",
       "      <td>0.0</td>\n",
       "      <td>3.0</td>\n",
       "      <td>3.0</td>\n",
       "      <td>1.0</td>\n",
       "      <td>0.0</td>\n",
       "      <td>...</td>\n",
       "      <td>0.0</td>\n",
       "      <td>0.0</td>\n",
       "      <td>0.0</td>\n",
       "      <td>0.0</td>\n",
       "      <td>0.0</td>\n",
       "      <td>0.0</td>\n",
       "      <td>0.0</td>\n",
       "      <td>0.0</td>\n",
       "      <td>0.0</td>\n",
       "      <td>0.0</td>\n",
       "    </tr>\n",
       "    <tr>\n",
       "      <th>77</th>\n",
       "      <td>2.0</td>\n",
       "      <td>0.0</td>\n",
       "      <td>0.0</td>\n",
       "      <td>0.0</td>\n",
       "      <td>0.0</td>\n",
       "      <td>1.0</td>\n",
       "      <td>3.0</td>\n",
       "      <td>0.0</td>\n",
       "      <td>1.0</td>\n",
       "      <td>0.0</td>\n",
       "      <td>...</td>\n",
       "      <td>0.0</td>\n",
       "      <td>0.0</td>\n",
       "      <td>0.0</td>\n",
       "      <td>0.0</td>\n",
       "      <td>0.0</td>\n",
       "      <td>0.0</td>\n",
       "      <td>0.0</td>\n",
       "      <td>0.0</td>\n",
       "      <td>0.0</td>\n",
       "      <td>0.0</td>\n",
       "    </tr>\n",
       "    <tr>\n",
       "      <th>99</th>\n",
       "      <td>1.0</td>\n",
       "      <td>0.0</td>\n",
       "      <td>0.0</td>\n",
       "      <td>0.0</td>\n",
       "      <td>0.0</td>\n",
       "      <td>0.0</td>\n",
       "      <td>6.0</td>\n",
       "      <td>5.0</td>\n",
       "      <td>1.0</td>\n",
       "      <td>0.0</td>\n",
       "      <td>...</td>\n",
       "      <td>0.0</td>\n",
       "      <td>0.0</td>\n",
       "      <td>0.0</td>\n",
       "      <td>0.0</td>\n",
       "      <td>0.0</td>\n",
       "      <td>0.0</td>\n",
       "      <td>0.0</td>\n",
       "      <td>0.0</td>\n",
       "      <td>0.0</td>\n",
       "      <td>0.0</td>\n",
       "    </tr>\n",
       "    <tr>\n",
       "      <th>94</th>\n",
       "      <td>0.0</td>\n",
       "      <td>0.0</td>\n",
       "      <td>0.0</td>\n",
       "      <td>0.0</td>\n",
       "      <td>0.0</td>\n",
       "      <td>0.0</td>\n",
       "      <td>2.0</td>\n",
       "      <td>1.0</td>\n",
       "      <td>0.0</td>\n",
       "      <td>0.0</td>\n",
       "      <td>...</td>\n",
       "      <td>0.0</td>\n",
       "      <td>0.0</td>\n",
       "      <td>0.0</td>\n",
       "      <td>0.0</td>\n",
       "      <td>0.0</td>\n",
       "      <td>0.0</td>\n",
       "      <td>0.0</td>\n",
       "      <td>0.0</td>\n",
       "      <td>0.0</td>\n",
       "      <td>0.0</td>\n",
       "    </tr>\n",
       "  </tbody>\n",
       "</table>\n",
       "<p>9 rows × 8869 columns</p>\n",
       "</div>"
      ],
      "text/plain": [
       "    國民黨   主席  吳敦義   日前   提到  高雄市    長  候選人  韓國瑜   過去 ...    聽過   轟林  建樹少  \\\n",
       "16  0.0  0.0  0.0  0.0  0.0  0.0  5.0  0.0  0.0  0.0 ...   0.0  0.0  0.0   \n",
       "71  0.0  0.0  0.0  0.0  0.0  0.0  1.0  0.0  0.0  0.0 ...   0.0  0.0  0.0   \n",
       "15  1.0  0.0  0.0  0.0  0.0  0.0  4.0  1.0  0.0  1.0 ...   0.0  0.0  0.0   \n",
       "34  0.0  0.0  0.0  0.0  0.0  0.0  3.0  0.0  0.0  0.0 ...   0.0  0.0  0.0   \n",
       "93  0.0  0.0  0.0  0.0  0.0  3.0  4.0  1.0  9.0  0.0 ...   0.0  0.0  0.0   \n",
       "92  0.0  0.0  0.0  0.0  0.0  0.0  3.0  3.0  1.0  0.0 ...   0.0  0.0  0.0   \n",
       "77  2.0  0.0  0.0  0.0  0.0  1.0  3.0  0.0  1.0  0.0 ...   0.0  0.0  0.0   \n",
       "99  1.0  0.0  0.0  0.0  0.0  0.0  6.0  5.0  1.0  0.0 ...   0.0  0.0  0.0   \n",
       "94  0.0  0.0  0.0  0.0  0.0  0.0  2.0  1.0  0.0  0.0 ...   0.0  0.0  0.0   \n",
       "\n",
       "    人馬大陣    仗  老神在在   越熱   富溢  音樂人   傳真  \n",
       "16   0.0  0.0   0.0  0.0  0.0  0.0  0.0  \n",
       "71   0.0  0.0   0.0  0.0  0.0  0.0  0.0  \n",
       "15   0.0  0.0   0.0  0.0  0.0  0.0  0.0  \n",
       "34   0.0  0.0   0.0  0.0  0.0  0.0  0.0  \n",
       "93   0.0  0.0   0.0  0.0  0.0  0.0  0.0  \n",
       "92   0.0  0.0   0.0  0.0  0.0  0.0  0.0  \n",
       "77   0.0  0.0   0.0  0.0  0.0  0.0  0.0  \n",
       "99   0.0  0.0   0.0  0.0  0.0  0.0  0.0  \n",
       "94   0.0  0.0   0.0  0.0  0.0  0.0  0.0  \n",
       "\n",
       "[9 rows x 8869 columns]"
      ]
     },
     "execution_count": 17,
     "metadata": {},
     "output_type": "execute_result"
    }
   ],
   "source": [
    "X_test"
   ]
  },
  {
   "cell_type": "code",
   "execution_count": 18,
   "metadata": {
    "scrolled": true
   },
   "outputs": [
    {
     "data": {
      "text/plain": [
       "LogisticRegression(C=1.0, class_weight=None, dual=False, fit_intercept=True,\n",
       "          intercept_scaling=1, max_iter=100, multi_class='ovr', n_jobs=1,\n",
       "          penalty='l2', random_state=None, solver='liblinear', tol=0.0001,\n",
       "          verbose=0, warm_start=False)"
      ]
     },
     "execution_count": 18,
     "metadata": {},
     "output_type": "execute_result"
    }
   ],
   "source": [
    "from sklearn.linear_model import LogisticRegression\n",
    "lr = LogisticRegression()\n",
    "lr.fit(X_train,y_train.provider.values)"
   ]
  },
  {
   "cell_type": "code",
   "execution_count": 19,
   "metadata": {},
   "outputs": [
    {
     "data": {
      "text/plain": [
       "0.7777777777777778"
      ]
     },
     "execution_count": 19,
     "metadata": {},
     "output_type": "execute_result"
    }
   ],
   "source": [
    "from sklearn.metrics import accuracy_score\n",
    "\n",
    "accuracy_score(y_test.provider.values, lr.predict(X_test))\n"
   ]
  },
  {
   "cell_type": "code",
   "execution_count": 20,
   "metadata": {
    "scrolled": true
   },
   "outputs": [
    {
     "data": {
      "text/plain": [
       "array(['聯合新聞網', '中央社', '聯合新聞網', '中央社', '聯合新聞網', '聯合新聞網', '中央社', '聯合新聞網',\n",
       "       '聯合新聞網'], dtype=object)"
      ]
     },
     "execution_count": 20,
     "metadata": {},
     "output_type": "execute_result"
    }
   ],
   "source": [
    "y_test.provider.values"
   ]
  },
  {
   "cell_type": "code",
   "execution_count": 21,
   "metadata": {
    "scrolled": true
   },
   "outputs": [
    {
     "data": {
      "text/plain": [
       "array(['中央社', '中央社', '中央社', '中央社', '聯合新聞網', '聯合新聞網', '中央社', '聯合新聞網',\n",
       "       '聯合新聞網'], dtype=object)"
      ]
     },
     "execution_count": 21,
     "metadata": {},
     "output_type": "execute_result"
    }
   ],
   "source": [
    "lr.predict(X_test)"
   ]
  },
  {
   "cell_type": "code",
   "execution_count": 22,
   "metadata": {
    "scrolled": true
   },
   "outputs": [
    {
     "data": {
      "text/html": [
       "<div>\n",
       "<style scoped>\n",
       "    .dataframe tbody tr th:only-of-type {\n",
       "        vertical-align: middle;\n",
       "    }\n",
       "\n",
       "    .dataframe tbody tr th {\n",
       "        vertical-align: top;\n",
       "    }\n",
       "\n",
       "    .dataframe thead th {\n",
       "        text-align: right;\n",
       "    }\n",
       "</style>\n",
       "<table border=\"1\" class=\"dataframe\">\n",
       "  <thead>\n",
       "    <tr style=\"text-align: right;\">\n",
       "      <th></th>\n",
       "      <th>國民黨</th>\n",
       "      <th>主席</th>\n",
       "      <th>吳敦義</th>\n",
       "      <th>日前</th>\n",
       "      <th>提到</th>\n",
       "      <th>高雄市</th>\n",
       "      <th>長</th>\n",
       "      <th>候選人</th>\n",
       "      <th>韓國瑜</th>\n",
       "      <th>過去</th>\n",
       "      <th>...</th>\n",
       "      <th>聽過</th>\n",
       "      <th>轟林</th>\n",
       "      <th>建樹少</th>\n",
       "      <th>人馬大陣</th>\n",
       "      <th>仗</th>\n",
       "      <th>老神在在</th>\n",
       "      <th>越熱</th>\n",
       "      <th>富溢</th>\n",
       "      <th>音樂人</th>\n",
       "      <th>傳真</th>\n",
       "    </tr>\n",
       "  </thead>\n",
       "  <tbody>\n",
       "    <tr>\n",
       "      <th>16</th>\n",
       "      <td>0.0</td>\n",
       "      <td>0.0</td>\n",
       "      <td>0.0</td>\n",
       "      <td>0.0</td>\n",
       "      <td>0.0</td>\n",
       "      <td>0.0</td>\n",
       "      <td>5.0</td>\n",
       "      <td>0.0</td>\n",
       "      <td>0.0</td>\n",
       "      <td>0.0</td>\n",
       "      <td>...</td>\n",
       "      <td>0.0</td>\n",
       "      <td>0.0</td>\n",
       "      <td>0.0</td>\n",
       "      <td>0.0</td>\n",
       "      <td>0.0</td>\n",
       "      <td>0.0</td>\n",
       "      <td>0.0</td>\n",
       "      <td>0.0</td>\n",
       "      <td>0.0</td>\n",
       "      <td>0.0</td>\n",
       "    </tr>\n",
       "    <tr>\n",
       "      <th>71</th>\n",
       "      <td>0.0</td>\n",
       "      <td>0.0</td>\n",
       "      <td>0.0</td>\n",
       "      <td>0.0</td>\n",
       "      <td>0.0</td>\n",
       "      <td>0.0</td>\n",
       "      <td>1.0</td>\n",
       "      <td>0.0</td>\n",
       "      <td>0.0</td>\n",
       "      <td>0.0</td>\n",
       "      <td>...</td>\n",
       "      <td>0.0</td>\n",
       "      <td>0.0</td>\n",
       "      <td>0.0</td>\n",
       "      <td>0.0</td>\n",
       "      <td>0.0</td>\n",
       "      <td>0.0</td>\n",
       "      <td>0.0</td>\n",
       "      <td>0.0</td>\n",
       "      <td>0.0</td>\n",
       "      <td>0.0</td>\n",
       "    </tr>\n",
       "    <tr>\n",
       "      <th>15</th>\n",
       "      <td>1.0</td>\n",
       "      <td>0.0</td>\n",
       "      <td>0.0</td>\n",
       "      <td>0.0</td>\n",
       "      <td>0.0</td>\n",
       "      <td>0.0</td>\n",
       "      <td>4.0</td>\n",
       "      <td>1.0</td>\n",
       "      <td>0.0</td>\n",
       "      <td>1.0</td>\n",
       "      <td>...</td>\n",
       "      <td>0.0</td>\n",
       "      <td>0.0</td>\n",
       "      <td>0.0</td>\n",
       "      <td>0.0</td>\n",
       "      <td>0.0</td>\n",
       "      <td>0.0</td>\n",
       "      <td>0.0</td>\n",
       "      <td>0.0</td>\n",
       "      <td>0.0</td>\n",
       "      <td>0.0</td>\n",
       "    </tr>\n",
       "    <tr>\n",
       "      <th>34</th>\n",
       "      <td>0.0</td>\n",
       "      <td>0.0</td>\n",
       "      <td>0.0</td>\n",
       "      <td>0.0</td>\n",
       "      <td>0.0</td>\n",
       "      <td>0.0</td>\n",
       "      <td>3.0</td>\n",
       "      <td>0.0</td>\n",
       "      <td>0.0</td>\n",
       "      <td>0.0</td>\n",
       "      <td>...</td>\n",
       "      <td>0.0</td>\n",
       "      <td>0.0</td>\n",
       "      <td>0.0</td>\n",
       "      <td>0.0</td>\n",
       "      <td>0.0</td>\n",
       "      <td>0.0</td>\n",
       "      <td>0.0</td>\n",
       "      <td>0.0</td>\n",
       "      <td>0.0</td>\n",
       "      <td>0.0</td>\n",
       "    </tr>\n",
       "    <tr>\n",
       "      <th>93</th>\n",
       "      <td>0.0</td>\n",
       "      <td>0.0</td>\n",
       "      <td>0.0</td>\n",
       "      <td>0.0</td>\n",
       "      <td>0.0</td>\n",
       "      <td>3.0</td>\n",
       "      <td>4.0</td>\n",
       "      <td>1.0</td>\n",
       "      <td>9.0</td>\n",
       "      <td>0.0</td>\n",
       "      <td>...</td>\n",
       "      <td>0.0</td>\n",
       "      <td>0.0</td>\n",
       "      <td>0.0</td>\n",
       "      <td>0.0</td>\n",
       "      <td>0.0</td>\n",
       "      <td>0.0</td>\n",
       "      <td>0.0</td>\n",
       "      <td>0.0</td>\n",
       "      <td>0.0</td>\n",
       "      <td>0.0</td>\n",
       "    </tr>\n",
       "    <tr>\n",
       "      <th>92</th>\n",
       "      <td>0.0</td>\n",
       "      <td>0.0</td>\n",
       "      <td>0.0</td>\n",
       "      <td>0.0</td>\n",
       "      <td>0.0</td>\n",
       "      <td>0.0</td>\n",
       "      <td>3.0</td>\n",
       "      <td>3.0</td>\n",
       "      <td>1.0</td>\n",
       "      <td>0.0</td>\n",
       "      <td>...</td>\n",
       "      <td>0.0</td>\n",
       "      <td>0.0</td>\n",
       "      <td>0.0</td>\n",
       "      <td>0.0</td>\n",
       "      <td>0.0</td>\n",
       "      <td>0.0</td>\n",
       "      <td>0.0</td>\n",
       "      <td>0.0</td>\n",
       "      <td>0.0</td>\n",
       "      <td>0.0</td>\n",
       "    </tr>\n",
       "    <tr>\n",
       "      <th>77</th>\n",
       "      <td>2.0</td>\n",
       "      <td>0.0</td>\n",
       "      <td>0.0</td>\n",
       "      <td>0.0</td>\n",
       "      <td>0.0</td>\n",
       "      <td>1.0</td>\n",
       "      <td>3.0</td>\n",
       "      <td>0.0</td>\n",
       "      <td>1.0</td>\n",
       "      <td>0.0</td>\n",
       "      <td>...</td>\n",
       "      <td>0.0</td>\n",
       "      <td>0.0</td>\n",
       "      <td>0.0</td>\n",
       "      <td>0.0</td>\n",
       "      <td>0.0</td>\n",
       "      <td>0.0</td>\n",
       "      <td>0.0</td>\n",
       "      <td>0.0</td>\n",
       "      <td>0.0</td>\n",
       "      <td>0.0</td>\n",
       "    </tr>\n",
       "    <tr>\n",
       "      <th>99</th>\n",
       "      <td>1.0</td>\n",
       "      <td>0.0</td>\n",
       "      <td>0.0</td>\n",
       "      <td>0.0</td>\n",
       "      <td>0.0</td>\n",
       "      <td>0.0</td>\n",
       "      <td>6.0</td>\n",
       "      <td>5.0</td>\n",
       "      <td>1.0</td>\n",
       "      <td>0.0</td>\n",
       "      <td>...</td>\n",
       "      <td>0.0</td>\n",
       "      <td>0.0</td>\n",
       "      <td>0.0</td>\n",
       "      <td>0.0</td>\n",
       "      <td>0.0</td>\n",
       "      <td>0.0</td>\n",
       "      <td>0.0</td>\n",
       "      <td>0.0</td>\n",
       "      <td>0.0</td>\n",
       "      <td>0.0</td>\n",
       "    </tr>\n",
       "    <tr>\n",
       "      <th>94</th>\n",
       "      <td>0.0</td>\n",
       "      <td>0.0</td>\n",
       "      <td>0.0</td>\n",
       "      <td>0.0</td>\n",
       "      <td>0.0</td>\n",
       "      <td>0.0</td>\n",
       "      <td>2.0</td>\n",
       "      <td>1.0</td>\n",
       "      <td>0.0</td>\n",
       "      <td>0.0</td>\n",
       "      <td>...</td>\n",
       "      <td>0.0</td>\n",
       "      <td>0.0</td>\n",
       "      <td>0.0</td>\n",
       "      <td>0.0</td>\n",
       "      <td>0.0</td>\n",
       "      <td>0.0</td>\n",
       "      <td>0.0</td>\n",
       "      <td>0.0</td>\n",
       "      <td>0.0</td>\n",
       "      <td>0.0</td>\n",
       "    </tr>\n",
       "  </tbody>\n",
       "</table>\n",
       "<p>9 rows × 8869 columns</p>\n",
       "</div>"
      ],
      "text/plain": [
       "    國民黨   主席  吳敦義   日前   提到  高雄市    長  候選人  韓國瑜   過去 ...    聽過   轟林  建樹少  \\\n",
       "16  0.0  0.0  0.0  0.0  0.0  0.0  5.0  0.0  0.0  0.0 ...   0.0  0.0  0.0   \n",
       "71  0.0  0.0  0.0  0.0  0.0  0.0  1.0  0.0  0.0  0.0 ...   0.0  0.0  0.0   \n",
       "15  1.0  0.0  0.0  0.0  0.0  0.0  4.0  1.0  0.0  1.0 ...   0.0  0.0  0.0   \n",
       "34  0.0  0.0  0.0  0.0  0.0  0.0  3.0  0.0  0.0  0.0 ...   0.0  0.0  0.0   \n",
       "93  0.0  0.0  0.0  0.0  0.0  3.0  4.0  1.0  9.0  0.0 ...   0.0  0.0  0.0   \n",
       "92  0.0  0.0  0.0  0.0  0.0  0.0  3.0  3.0  1.0  0.0 ...   0.0  0.0  0.0   \n",
       "77  2.0  0.0  0.0  0.0  0.0  1.0  3.0  0.0  1.0  0.0 ...   0.0  0.0  0.0   \n",
       "99  1.0  0.0  0.0  0.0  0.0  0.0  6.0  5.0  1.0  0.0 ...   0.0  0.0  0.0   \n",
       "94  0.0  0.0  0.0  0.0  0.0  0.0  2.0  1.0  0.0  0.0 ...   0.0  0.0  0.0   \n",
       "\n",
       "    人馬大陣    仗  老神在在   越熱   富溢  音樂人   傳真  \n",
       "16   0.0  0.0   0.0  0.0  0.0  0.0  0.0  \n",
       "71   0.0  0.0   0.0  0.0  0.0  0.0  0.0  \n",
       "15   0.0  0.0   0.0  0.0  0.0  0.0  0.0  \n",
       "34   0.0  0.0   0.0  0.0  0.0  0.0  0.0  \n",
       "93   0.0  0.0   0.0  0.0  0.0  0.0  0.0  \n",
       "92   0.0  0.0   0.0  0.0  0.0  0.0  0.0  \n",
       "77   0.0  0.0   0.0  0.0  0.0  0.0  0.0  \n",
       "99   0.0  0.0   0.0  0.0  0.0  0.0  0.0  \n",
       "94   0.0  0.0   0.0  0.0  0.0  0.0  0.0  \n",
       "\n",
       "[9 rows x 8869 columns]"
      ]
     },
     "execution_count": 22,
     "metadata": {},
     "output_type": "execute_result"
    }
   ],
   "source": [
    "X_test"
   ]
  },
  {
   "cell_type": "markdown",
   "metadata": {},
   "source": [
    "## Linear models\n",
    "\n"
   ]
  },
  {
   "cell_type": "code",
   "execution_count": 26,
   "metadata": {
    "scrolled": true
   },
   "outputs": [
    {
     "data": {
      "text/plain": [
       "Index(['國民黨', '主席', '吳敦義', '日前', '提到', '高雄市', '長', '候選人', '韓國瑜', '過去',\n",
       "       ...\n",
       "       '聽過', '轟林', '建樹少', '人馬大陣', '仗', '老神在在', '越熱', '富溢', '音樂人', '傳真'],\n",
       "      dtype='object', length=8869)"
      ]
     },
     "execution_count": 26,
     "metadata": {},
     "output_type": "execute_result"
    }
   ],
   "source": [
    "news_word_freq.columns"
   ]
  },
  {
   "cell_type": "code",
   "execution_count": 30,
   "metadata": {},
   "outputs": [],
   "source": [
    "X_train, X_test, y_train, y_test = train_test_split(\n",
    "    news_word_freq[['國民黨', '主席', '吳敦義', '高雄市', '候選人', '韓國瑜']], \n",
    "    news[['length']],\n",
    "    test_size=0.3, \n",
    "    random_state=7)"
   ]
  },
  {
   "cell_type": "code",
   "execution_count": 31,
   "metadata": {},
   "outputs": [],
   "source": [
    "from sklearn.linear_model import LinearRegression\n",
    "from sklearn.metrics import mean_squared_error, r2_score\n",
    "\n",
    "regr = LinearRegression()\n",
    "regr.fit(X_train, y_train)\n",
    "y_pred = regr.predict(X_test)"
   ]
  },
  {
   "cell_type": "code",
   "execution_count": 32,
   "metadata": {
    "scrolled": true
   },
   "outputs": [
    {
     "name": "stdout",
     "output_type": "stream",
     "text": [
      "Coefficients: \n",
      " [[ 85.87166035  76.36660915 -68.7453094   -2.22675078  45.61938792\n",
      "   -0.13856336]]\n",
      "Mean squared error: 101941.23\n",
      "Variance score: -0.41\n"
     ]
    }
   ],
   "source": [
    "# The coefficients\n",
    "print('Coefficients: \\n', regr.coef_)\n",
    "# The mean squared error\n",
    "print(\"Mean squared error: %.2f\"\n",
    "      % mean_squared_error(y_test, y_pred))\n",
    "# Explained variance score: 1 is perfect prediction\n",
    "print('Variance score: %.2f' % r2_score(y_test, y_pred))"
   ]
  },
  {
   "cell_type": "markdown",
   "metadata": {},
   "source": [
    "http://scikit-learn.org/stable/modules/model_evaluation.html"
   ]
  },
  {
   "cell_type": "code",
   "execution_count": null,
   "metadata": {},
   "outputs": [],
   "source": []
  }
 ],
 "metadata": {
  "anaconda-cloud": {},
  "kernelspec": {
   "display_name": "Python 3",
   "language": "python",
   "name": "python3"
  },
  "language_info": {
   "codemirror_mode": {
    "name": "ipython",
    "version": 3
   },
   "file_extension": ".py",
   "mimetype": "text/x-python",
   "name": "python",
   "nbconvert_exporter": "python",
   "pygments_lexer": "ipython3",
   "version": "3.7.0"
  }
 },
 "nbformat": 4,
 "nbformat_minor": 1
}

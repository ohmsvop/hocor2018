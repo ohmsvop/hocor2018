{
 "cells": [
  {
   "cell_type": "markdown",
   "metadata": {
    "slideshow": {
     "slide_type": "slide"
    }
   },
   "source": [
    "# 2. Descriptive Statistics\n",
    "## Outline\n",
    "* [Frequency](#frequency)\n",
    "* [Measures of central tendency](#measuresOfCentralTendency)\n",
    "* [Measures of dispersion](#measuresOfDispersion)\n",
    "* [Normalization and Standardization](#normalizationAndStandardization)\n",
    "* [Coefficients of correlation](#coefficientsOfCorrelation)"
   ]
  },
  {
   "cell_type": "markdown",
   "metadata": {
    "slideshow": {
     "slide_type": "slide"
    }
   },
   "source": [
    "## Frequency<a name=\"frequency\" />\n",
    "\n",
    "資料常常需要計算出現的頻率，`.value_counts()` 可以統計某個欄位中每個值出現的次數。"
   ]
  },
  {
   "cell_type": "code",
   "execution_count": 1,
   "metadata": {
    "slideshow": {
     "slide_type": "fragment"
    }
   },
   "outputs": [
    {
     "data": {
      "text/html": [
       "<div>\n",
       "<style scoped>\n",
       "    .dataframe tbody tr th:only-of-type {\n",
       "        vertical-align: middle;\n",
       "    }\n",
       "\n",
       "    .dataframe tbody tr th {\n",
       "        vertical-align: top;\n",
       "    }\n",
       "\n",
       "    .dataframe thead th {\n",
       "        text-align: right;\n",
       "    }\n",
       "</style>\n",
       "<table border=\"1\" class=\"dataframe\">\n",
       "  <thead>\n",
       "    <tr style=\"text-align: right;\">\n",
       "      <th></th>\n",
       "      <th>title</th>\n",
       "      <th>content</th>\n",
       "      <th>time</th>\n",
       "      <th>provider</th>\n",
       "      <th>url</th>\n",
       "    </tr>\n",
       "  </thead>\n",
       "  <tbody>\n",
       "    <tr>\n",
       "      <th>0</th>\n",
       "      <td>「把25年前韓國瑜打人事件當英雄看」陳水扁批：吳敦義「災難政治學」的表現</td>\n",
       "      <td>國民黨主席吳敦義日前提到高雄市長候選人韓國瑜過去打陳水扁，表示「很認同跟敬佩」並形容「允文允...</td>\n",
       "      <td>2018-10-22 12:16:02+08:00</td>\n",
       "      <td>風傳媒</td>\n",
       "      <td>https://tw.news.yahoo.com/把25年前韓國瑜打人事件當英雄看-陳水扁...</td>\n",
       "    </tr>\n",
       "    <tr>\n",
       "      <th>1</th>\n",
       "      <td>【Yahoo論壇／林青弘】柯文哲是否一再說謊？</td>\n",
       "      <td>柯文哲市長在台北市北投區七星公園造勢，行動競選總部的大卡車開進公園，違規臨停。競辦被開罰六張...</td>\n",
       "      <td>2018-10-22 14:00:26+08:00</td>\n",
       "      <td>林青弘</td>\n",
       "      <td>https://tw.news.yahoo.com/【yahoo論壇%EF%BC%8F林青弘...</td>\n",
       "    </tr>\n",
       "    <tr>\n",
       "      <th>2</th>\n",
       "      <td>【Yahoo論壇】民進黨誰最怕陳其邁落選？</td>\n",
       "      <td>讀者投書：廖念漢（現任奇策盟文宣部主任、曾任海巡署專聘講師）\\n 《長平之戰》是戰國時代最戲...</td>\n",
       "      <td>2018-10-22 13:57:44+08:00</td>\n",
       "      <td>讀者投書</td>\n",
       "      <td>https://tw.news.yahoo.com/【yahoo論壇】民進黨誰最怕陳其邁落選...</td>\n",
       "    </tr>\n",
       "    <tr>\n",
       "      <th>3</th>\n",
       "      <td>抽中籤王 韓國瑜車隊掃街 民眾路邊紛比讚</td>\n",
       "      <td>國民黨高雄市長候選人韓國瑜聲勢上漲，又抽中一號籤王，心情相當興奮，立即展開掃街拜，經過的地方...</td>\n",
       "      <td>2018-10-22 13:32:00+08:00</td>\n",
       "      <td>EBC東森新聞</td>\n",
       "      <td>https://tw.news.yahoo.com/抽中籤王-韓國瑜車隊掃街-民眾路邊紛比讚...</td>\n",
       "    </tr>\n",
       "    <tr>\n",
       "      <th>4</th>\n",
       "      <td>百年土地公上香祈福 陳學聖提五不原則</td>\n",
       "      <td>【綜合報導】普悠瑪列車出軌意外舉國震驚如同國難，令社會大眾、競選團隊及陳學聖本人都感到十分沉...</td>\n",
       "      <td>2018-10-22 13:17:44+08:00</td>\n",
       "      <td>民眾日報</td>\n",
       "      <td>https://tw.news.yahoo.com/百年土地公上香祈福-陳學聖提五不原則-0...</td>\n",
       "    </tr>\n",
       "  </tbody>\n",
       "</table>\n",
       "</div>"
      ],
      "text/plain": [
       "                                  title  \\\n",
       "0  「把25年前韓國瑜打人事件當英雄看」陳水扁批：吳敦義「災難政治學」的表現   \n",
       "1               【Yahoo論壇／林青弘】柯文哲是否一再說謊？   \n",
       "2                 【Yahoo論壇】民進黨誰最怕陳其邁落選？   \n",
       "3                  抽中籤王 韓國瑜車隊掃街 民眾路邊紛比讚   \n",
       "4                    百年土地公上香祈福 陳學聖提五不原則   \n",
       "\n",
       "                                             content  \\\n",
       "0  國民黨主席吳敦義日前提到高雄市長候選人韓國瑜過去打陳水扁，表示「很認同跟敬佩」並形容「允文允...   \n",
       "1  柯文哲市長在台北市北投區七星公園造勢，行動競選總部的大卡車開進公園，違規臨停。競辦被開罰六張...   \n",
       "2  讀者投書：廖念漢（現任奇策盟文宣部主任、曾任海巡署專聘講師）\\n 《長平之戰》是戰國時代最戲...   \n",
       "3  國民黨高雄市長候選人韓國瑜聲勢上漲，又抽中一號籤王，心情相當興奮，立即展開掃街拜，經過的地方...   \n",
       "4  【綜合報導】普悠瑪列車出軌意外舉國震驚如同國難，令社會大眾、競選團隊及陳學聖本人都感到十分沉...   \n",
       "\n",
       "                        time provider  \\\n",
       "0  2018-10-22 12:16:02+08:00      風傳媒   \n",
       "1  2018-10-22 14:00:26+08:00      林青弘   \n",
       "2  2018-10-22 13:57:44+08:00     讀者投書   \n",
       "3  2018-10-22 13:32:00+08:00  EBC東森新聞   \n",
       "4  2018-10-22 13:17:44+08:00     民眾日報   \n",
       "\n",
       "                                                 url  \n",
       "0  https://tw.news.yahoo.com/把25年前韓國瑜打人事件當英雄看-陳水扁...  \n",
       "1  https://tw.news.yahoo.com/【yahoo論壇%EF%BC%8F林青弘...  \n",
       "2  https://tw.news.yahoo.com/【yahoo論壇】民進黨誰最怕陳其邁落選...  \n",
       "3  https://tw.news.yahoo.com/抽中籤王-韓國瑜車隊掃街-民眾路邊紛比讚...  \n",
       "4  https://tw.news.yahoo.com/百年土地公上香祈福-陳學聖提五不原則-0...  "
      ]
     },
     "execution_count": 1,
     "metadata": {},
     "output_type": "execute_result"
    }
   ],
   "source": [
    "import pandas as pd\n",
    "from pathlib import Path\n",
    "data_folder = Path(\"../data/\")\n",
    "\n",
    "news = pd.read_csv(data_folder / \"news.csv\")\n",
    "news.head()"
   ]
  },
  {
   "cell_type": "code",
   "execution_count": 2,
   "metadata": {
    "slideshow": {
     "slide_type": "subslide"
    }
   },
   "outputs": [
    {
     "data": {
      "text/plain": [
       "中央社               14\n",
       "聯合新聞網             13\n",
       "今日新聞NOWnews       11\n",
       "新頭殼               11\n",
       "風傳媒               11\n",
       "三立新聞網 setn.com    10\n",
       "民眾日報              10\n",
       "TVBS新聞網            9\n",
       "民視                 7\n",
       "台灣好新聞報             6\n",
       "EBC東森新聞            6\n",
       "華視                 3\n",
       "中華日報               2\n",
       "信傳媒                2\n",
       "讀者投書               1\n",
       "壹電視影音              1\n",
       "林青弘                1\n",
       "上報                 1\n",
       "詹為元                1\n",
       "Name: provider, dtype: int64"
      ]
     },
     "execution_count": 2,
     "metadata": {},
     "output_type": "execute_result"
    }
   ],
   "source": [
    "news['provider'].value_counts()"
   ]
  },
  {
   "cell_type": "code",
   "execution_count": 3,
   "metadata": {
    "slideshow": {
     "slide_type": "subslide"
    }
   },
   "outputs": [
    {
     "data": {
      "text/plain": [
       "False    84\n",
       "True     36\n",
       "Name: 柯文哲, dtype: int64"
      ]
     },
     "execution_count": 3,
     "metadata": {},
     "output_type": "execute_result"
    }
   ],
   "source": [
    "word = '柯文哲' \n",
    "news[word] = [word in text for text in news.content]\n",
    "news[word].value_counts()"
   ]
  },
  {
   "cell_type": "code",
   "execution_count": 4,
   "metadata": {
    "slideshow": {
     "slide_type": "fragment"
    }
   },
   "outputs": [
    {
     "data": {
      "text/html": [
       "<div>\n",
       "<style scoped>\n",
       "    .dataframe tbody tr th:only-of-type {\n",
       "        vertical-align: middle;\n",
       "    }\n",
       "\n",
       "    .dataframe tbody tr th {\n",
       "        vertical-align: top;\n",
       "    }\n",
       "\n",
       "    .dataframe thead th {\n",
       "        text-align: right;\n",
       "    }\n",
       "</style>\n",
       "<table border=\"1\" class=\"dataframe\">\n",
       "  <thead>\n",
       "    <tr style=\"text-align: right;\">\n",
       "      <th>姚文智</th>\n",
       "      <th>False</th>\n",
       "      <th>True</th>\n",
       "    </tr>\n",
       "    <tr>\n",
       "      <th>柯文哲</th>\n",
       "      <th></th>\n",
       "      <th></th>\n",
       "    </tr>\n",
       "  </thead>\n",
       "  <tbody>\n",
       "    <tr>\n",
       "      <th>False</th>\n",
       "      <td>76</td>\n",
       "      <td>8</td>\n",
       "    </tr>\n",
       "    <tr>\n",
       "      <th>True</th>\n",
       "      <td>12</td>\n",
       "      <td>24</td>\n",
       "    </tr>\n",
       "  </tbody>\n",
       "</table>\n",
       "</div>"
      ],
      "text/plain": [
       "姚文智    False  True \n",
       "柯文哲                \n",
       "False     76      8\n",
       "True      12     24"
      ]
     },
     "execution_count": 4,
     "metadata": {},
     "output_type": "execute_result"
    }
   ],
   "source": [
    "word = '姚文智' \n",
    "news[word] = [word in text for text in news.content]\n",
    "pd.crosstab(news[\"柯文哲\"], news[\"姚文智\"])"
   ]
  },
  {
   "cell_type": "code",
   "execution_count": 5,
   "metadata": {
    "slideshow": {
     "slide_type": "subslide"
    }
   },
   "outputs": [
    {
     "data": {
      "text/plain": [
       "0     42\n",
       "1     29\n",
       "2     17\n",
       "3     12\n",
       "5      7\n",
       "4      5\n",
       "6      3\n",
       "9      2\n",
       "11     1\n",
       "8      1\n",
       "7      1\n",
       "Name: 民進黨, dtype: int64"
      ]
     },
     "execution_count": 5,
     "metadata": {},
     "output_type": "execute_result"
    }
   ],
   "source": [
    "word = '民進黨'\n",
    "news[word] = [text.count(word) for text in news.content]\n",
    "news[word].value_counts()"
   ]
  },
  {
   "cell_type": "markdown",
   "metadata": {
    "slideshow": {
     "slide_type": "slide"
    }
   },
   "source": [
    "## Measures of central tendency<a name=\"measuresOfCentralTendency\" />\n",
    "可以使用 `.mode()` 得到眾數、`.median()` 得到中位數、`.mean()` 得到平均數。"
   ]
  },
  {
   "cell_type": "code",
   "execution_count": 6,
   "metadata": {
    "slideshow": {
     "slide_type": "fragment"
    }
   },
   "outputs": [
    {
     "data": {
      "text/plain": [
       "0    中央社\n",
       "dtype: object"
      ]
     },
     "execution_count": 6,
     "metadata": {},
     "output_type": "execute_result"
    }
   ],
   "source": [
    "# mode\n",
    "news['provider'].mode()"
   ]
  },
  {
   "cell_type": "code",
   "execution_count": 7,
   "metadata": {
    "slideshow": {
     "slide_type": "subslide"
    }
   },
   "outputs": [],
   "source": [
    "# count the news length\n",
    "news['length'] = news['content'].apply(len)"
   ]
  },
  {
   "cell_type": "code",
   "execution_count": 8,
   "metadata": {
    "slideshow": {
     "slide_type": "fragment"
    }
   },
   "outputs": [
    {
     "data": {
      "text/plain": [
       "680.5"
      ]
     },
     "execution_count": 8,
     "metadata": {},
     "output_type": "execute_result"
    }
   ],
   "source": [
    "# median\n",
    "news['length'].median()"
   ]
  },
  {
   "cell_type": "code",
   "execution_count": 9,
   "metadata": {
    "scrolled": true,
    "slideshow": {
     "slide_type": "fragment"
    }
   },
   "outputs": [
    {
     "data": {
      "text/plain": [
       "699.4833333333333"
      ]
     },
     "execution_count": 9,
     "metadata": {},
     "output_type": "execute_result"
    }
   ],
   "source": [
    "# mean\n",
    "news['length'].mean()"
   ]
  },
  {
   "cell_type": "markdown",
   "metadata": {
    "slideshow": {
     "slide_type": "slide"
    }
   },
   "source": [
    "### Measures of dispersion<a name=\"measuresOfDispersion\" />\n",
    "可以用 `.max()` 得到最大值、`.min()` 得到最小值、相減即為全距。  \n",
    "可以用 `.quantile()` 得到百分位數、`.std()` 得到標準差、`.var()` 得到變異數。  \n",
    "`.describe()` 則是數據表格的統計，包含平均數、標準差、最大最小值、中位數和四分位數。"
   ]
  },
  {
   "cell_type": "code",
   "execution_count": 10,
   "metadata": {
    "slideshow": {
     "slide_type": "fragment"
    }
   },
   "outputs": [
    {
     "data": {
      "text/plain": [
       "1885"
      ]
     },
     "execution_count": 10,
     "metadata": {},
     "output_type": "execute_result"
    }
   ],
   "source": [
    "# range\n",
    "news.length.max() - news.length.min()"
   ]
  },
  {
   "cell_type": "code",
   "execution_count": 11,
   "metadata": {
    "slideshow": {
     "slide_type": "fragment"
    }
   },
   "outputs": [
    {
     "data": {
      "text/plain": [
       "526.5"
      ]
     },
     "execution_count": 11,
     "metadata": {},
     "output_type": "execute_result"
    }
   ],
   "source": [
    "# Quantiles and quartiles \n",
    "news.length.quantile(0.25)"
   ]
  },
  {
   "cell_type": "code",
   "execution_count": 12,
   "metadata": {
    "slideshow": {
     "slide_type": "subslide"
    }
   },
   "outputs": [
    {
     "data": {
      "text/plain": [
       "319.96102660076804"
      ]
     },
     "execution_count": 12,
     "metadata": {},
     "output_type": "execute_result"
    }
   ],
   "source": [
    "# Standard deviation\n",
    "news.length.std()"
   ]
  },
  {
   "cell_type": "code",
   "execution_count": 13,
   "metadata": {
    "slideshow": {
     "slide_type": "fragment"
    }
   },
   "outputs": [
    {
     "data": {
      "text/plain": [
       "102375.0585434174"
      ]
     },
     "execution_count": 13,
     "metadata": {},
     "output_type": "execute_result"
    }
   ],
   "source": [
    "# Variance\n",
    "news.length.var()"
   ]
  },
  {
   "cell_type": "code",
   "execution_count": 14,
   "metadata": {
    "slideshow": {
     "slide_type": "fragment"
    }
   },
   "outputs": [
    {
     "data": {
      "text/plain": [
       "102375.05854341738"
      ]
     },
     "execution_count": 14,
     "metadata": {},
     "output_type": "execute_result"
    }
   ],
   "source": [
    "news.length.std() ** 2"
   ]
  },
  {
   "cell_type": "code",
   "execution_count": 15,
   "metadata": {
    "slideshow": {
     "slide_type": "subslide"
    }
   },
   "outputs": [
    {
     "data": {
      "text/html": [
       "<div>\n",
       "<style scoped>\n",
       "    .dataframe tbody tr th:only-of-type {\n",
       "        vertical-align: middle;\n",
       "    }\n",
       "\n",
       "    .dataframe tbody tr th {\n",
       "        vertical-align: top;\n",
       "    }\n",
       "\n",
       "    .dataframe thead th {\n",
       "        text-align: right;\n",
       "    }\n",
       "</style>\n",
       "<table border=\"1\" class=\"dataframe\">\n",
       "  <thead>\n",
       "    <tr style=\"text-align: right;\">\n",
       "      <th></th>\n",
       "      <th>民進黨</th>\n",
       "      <th>length</th>\n",
       "    </tr>\n",
       "  </thead>\n",
       "  <tbody>\n",
       "    <tr>\n",
       "      <th>count</th>\n",
       "      <td>120.000000</td>\n",
       "      <td>120.000000</td>\n",
       "    </tr>\n",
       "    <tr>\n",
       "      <th>mean</th>\n",
       "      <td>1.800000</td>\n",
       "      <td>699.483333</td>\n",
       "    </tr>\n",
       "    <tr>\n",
       "      <th>std</th>\n",
       "      <td>2.198548</td>\n",
       "      <td>319.961027</td>\n",
       "    </tr>\n",
       "    <tr>\n",
       "      <th>min</th>\n",
       "      <td>0.000000</td>\n",
       "      <td>63.000000</td>\n",
       "    </tr>\n",
       "    <tr>\n",
       "      <th>25%</th>\n",
       "      <td>0.000000</td>\n",
       "      <td>526.500000</td>\n",
       "    </tr>\n",
       "    <tr>\n",
       "      <th>50%</th>\n",
       "      <td>1.000000</td>\n",
       "      <td>680.500000</td>\n",
       "    </tr>\n",
       "    <tr>\n",
       "      <th>75%</th>\n",
       "      <td>3.000000</td>\n",
       "      <td>832.000000</td>\n",
       "    </tr>\n",
       "    <tr>\n",
       "      <th>max</th>\n",
       "      <td>11.000000</td>\n",
       "      <td>1948.000000</td>\n",
       "    </tr>\n",
       "  </tbody>\n",
       "</table>\n",
       "</div>"
      ],
      "text/plain": [
       "              民進黨       length\n",
       "count  120.000000   120.000000\n",
       "mean     1.800000   699.483333\n",
       "std      2.198548   319.961027\n",
       "min      0.000000    63.000000\n",
       "25%      0.000000   526.500000\n",
       "50%      1.000000   680.500000\n",
       "75%      3.000000   832.000000\n",
       "max     11.000000  1948.000000"
      ]
     },
     "execution_count": 15,
     "metadata": {},
     "output_type": "execute_result"
    }
   ],
   "source": [
    "news.describe()"
   ]
  },
  {
   "cell_type": "markdown",
   "metadata": {
    "slideshow": {
     "slide_type": "slide"
    }
   },
   "source": [
    "### Normalization and Standardization<a name=\"normalizationAndStandardization\" />\n",
    "在建立模型前，通常會成資料標準化，常見的方法有下面兩種。  \n",
    "Normalization:  \n",
    "$ x_{\\text{norm}} = (x-x_{\\text{min}}) / (x_{\\text{max}} - x_{\\text{min}}) $  \n",
    "$x_{\\text{norm}}$'s are between 0 and 1.\n",
    "\n",
    "Standardization:  \n",
    "$ x_{\\text{std}} = (x-\\mu) / \\sigma $  \n",
    "$x_{\\text{std}}$'s have mean 0 and standard deviation 1.\n"
   ]
  },
  {
   "cell_type": "code",
   "execution_count": 16,
   "metadata": {
    "slideshow": {
     "slide_type": "fragment"
    }
   },
   "outputs": [],
   "source": [
    "news['length_norm'] = (news.length - news.length.min())/(news.length.max() - news.length.min())\n",
    "news['length_std'] = (news.length - news.length.mean())/news.length.std()"
   ]
  },
  {
   "cell_type": "code",
   "execution_count": 17,
   "metadata": {
    "scrolled": true,
    "slideshow": {
     "slide_type": "subslide"
    }
   },
   "outputs": [
    {
     "data": {
      "text/plain": [
       "<matplotlib.axes._subplots.AxesSubplot at 0x1212ef9b0>"
      ]
     },
     "execution_count": 17,
     "metadata": {},
     "output_type": "execute_result"
    },
    {
     "data": {
      "image/png": "[encoded data removed]",
      "text/plain": [
       "<Figure size 432x288 with 1 Axes>"
      ]
     },
     "metadata": {
      "needs_background": "light"
     },
     "output_type": "display_data"
    }
   ],
   "source": [
    "%matplotlib inline\n",
    "\n",
    "news['length_norm'].hist()"
   ]
  },
  {
   "cell_type": "code",
   "execution_count": 18,
   "metadata": {
    "slideshow": {
     "slide_type": "subslide"
    }
   },
   "outputs": [
    {
     "data": {
      "text/plain": [
       "<matplotlib.axes._subplots.AxesSubplot at 0x12142ab00>"
      ]
     },
     "execution_count": 18,
     "metadata": {},
     "output_type": "execute_result"
    },
    {
     "data": {
      "image/png": "[encoded data removed]",
      "text/plain": [
       "<Figure size 432x288 with 1 Axes>"
      ]
     },
     "metadata": {
      "needs_background": "light"
     },
     "output_type": "display_data"
    }
   ],
   "source": [
    "news['length_std'].hist()"
   ]
  },
  {
   "cell_type": "code",
   "execution_count": 19,
   "metadata": {
    "scrolled": true,
    "slideshow": {
     "slide_type": "subslide"
    }
   },
   "outputs": [
    {
     "data": {
      "text/plain": [
       "<matplotlib.axes._subplots.AxesSubplot at 0x12155cd30>"
      ]
     },
     "execution_count": 19,
     "metadata": {},
     "output_type": "execute_result"
    },
    {
     "data": {
      "image/png": "[encoded data removed]",
      "text/plain": [
       "<Figure size 432x288 with 1 Axes>"
      ]
     },
     "metadata": {
      "needs_background": "light"
     },
     "output_type": "display_data"
    }
   ],
   "source": [
    "news['length'].hist()"
   ]
  },
  {
   "cell_type": "markdown",
   "metadata": {
    "slideshow": {
     "slide_type": "slide"
    }
   },
   "source": [
    "### Coefficients of correlation<a name=\"coefficientsOfCorrelation\" />\n",
    "\n",
    "可以使用 `.corr()` 來看兩個欄位之間的相關係數（預設是 Pearson ， 也可以用 Kendall 或Spearman 的方法）。"
   ]
  },
  {
   "cell_type": "code",
   "execution_count": 20,
   "metadata": {
    "slideshow": {
     "slide_type": "fragment"
    }
   },
   "outputs": [
    {
     "data": {
      "text/html": [
       "<div>\n",
       "<style scoped>\n",
       "    .dataframe tbody tr th:only-of-type {\n",
       "        vertical-align: middle;\n",
       "    }\n",
       "\n",
       "    .dataframe tbody tr th {\n",
       "        vertical-align: top;\n",
       "    }\n",
       "\n",
       "    .dataframe thead th {\n",
       "        text-align: right;\n",
       "    }\n",
       "</style>\n",
       "<table border=\"1\" class=\"dataframe\">\n",
       "  <thead>\n",
       "    <tr style=\"text-align: right;\">\n",
       "      <th></th>\n",
       "      <th>柯文哲</th>\n",
       "      <th>姚文智</th>\n",
       "      <th>民進黨</th>\n",
       "    </tr>\n",
       "  </thead>\n",
       "  <tbody>\n",
       "    <tr>\n",
       "      <th>柯文哲</th>\n",
       "      <td>1.000000</td>\n",
       "      <td>0.592157</td>\n",
       "      <td>-0.031563</td>\n",
       "    </tr>\n",
       "    <tr>\n",
       "      <th>姚文智</th>\n",
       "      <td>0.592157</td>\n",
       "      <td>1.000000</td>\n",
       "      <td>0.227232</td>\n",
       "    </tr>\n",
       "    <tr>\n",
       "      <th>民進黨</th>\n",
       "      <td>-0.031563</td>\n",
       "      <td>0.227232</td>\n",
       "      <td>1.000000</td>\n",
       "    </tr>\n",
       "  </tbody>\n",
       "</table>\n",
       "</div>"
      ],
      "text/plain": [
       "          柯文哲       姚文智       民進黨\n",
       "柯文哲  1.000000  0.592157 -0.031563\n",
       "姚文智  0.592157  1.000000  0.227232\n",
       "民進黨 -0.031563  0.227232  1.000000"
      ]
     },
     "execution_count": 20,
     "metadata": {},
     "output_type": "execute_result"
    }
   ],
   "source": [
    "news.loc[:,['柯文哲','姚文智','民進黨']].corr()"
   ]
  }
 ],
 "metadata": {
  "anaconda-cloud": {},
  "celltoolbar": "Slideshow",
  "kernelspec": {
   "display_name": "Python 3",
   "language": "python",
   "name": "python3"
  },
  "language_info": {
   "codemirror_mode": {
    "name": "ipython",
    "version": 3
   },
   "file_extension": ".py",
   "mimetype": "text/x-python",
   "name": "python",
   "nbconvert_exporter": "python",
   "pygments_lexer": "ipython3",
   "version": "3.7.0"
  }
 },
 "nbformat": 4,
 "nbformat_minor": 1
}
